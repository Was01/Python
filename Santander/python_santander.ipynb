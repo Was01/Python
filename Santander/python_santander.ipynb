{
  "nbformat": 4,
  "nbformat_minor": 0,
  "metadata": {
    "colab": {
      "provenance": [],
      "authorship_tag": "ABX9TyO5W6VSZ+qWxiaEEtb0LJpv",
      "include_colab_link": true
    },
    "kernelspec": {
      "name": "python3",
      "display_name": "Python 3"
    },
    "language_info": {
      "name": "python"
    }
  },
  "cells": [
    {
      "cell_type": "markdown",
      "metadata": {
        "id": "view-in-github",
        "colab_type": "text"
      },
      "source": [
        "<a href=\"https://colab.research.google.com/github/Was01/Python/blob/main/Santander/python_santander.ipynb\" target=\"_parent\"><img src=\"https://colab.research.google.com/assets/colab-badge.svg\" alt=\"Open In Colab\"/></a>"
      ]
    },
    {
      "cell_type": "code",
      "execution_count": null,
      "metadata": {
        "colab": {
          "base_uri": "https://localhost:8080/"
        },
        "id": "kcsJWKeK3NMh",
        "outputId": "54e432d7-08a9-4633-f69c-433d3a044ed3"
      },
      "outputs": [
        {
          "output_type": "stream",
          "name": "stdout",
          "text": [
            "Olá mundo!!!\n"
          ]
        }
      ],
      "source": [
        "print(\"Olá mundo!!!\")"
      ]
    },
    {
      "cell_type": "markdown",
      "source": [
        "## if/else/elif"
      ],
      "metadata": {
        "id": "TNbNfwvR1yRN"
      }
    },
    {
      "cell_type": "code",
      "source": [
        "nota=75\n",
        "if nota>=90:\n",
        "  print(\"Excelente\")\n",
        "elif nota>=80:\n",
        "  print(\"Muito bom\")\n",
        "elif nota>=70:\n",
        "  print(\"Bom\")\n",
        "else:\n",
        "  print(\"Precisa melhorar\")"
      ],
      "metadata": {
        "id": "738Xvw1e3wer",
        "colab": {
          "base_uri": "https://localhost:8080/"
        },
        "outputId": "a275650d-87c6-41e2-9c49-6a9351f048cd"
      },
      "execution_count": null,
      "outputs": [
        {
          "output_type": "stream",
          "name": "stdout",
          "text": [
            "Bom\n"
          ]
        }
      ]
    },
    {
      "cell_type": "markdown",
      "source": [
        "## Listas"
      ],
      "metadata": {
        "id": "0ngLL-ro1vEV"
      }
    },
    {
      "cell_type": "code",
      "source": [
        "frutas=['maça','banana','laranja','morango']\n",
        "for fruta in frutas:\n",
        "  print(fruta)"
      ],
      "metadata": {
        "id": "5tyNNAX68xH9",
        "colab": {
          "base_uri": "https://localhost:8080/"
        },
        "outputId": "0119c3e4-f2dc-4322-9470-91d9c7261ef5"
      },
      "execution_count": null,
      "outputs": [
        {
          "output_type": "stream",
          "name": "stdout",
          "text": [
            "maça\n",
            "banana\n",
            "laranja\n",
            "morango\n"
          ]
        }
      ]
    },
    {
      "cell_type": "markdown",
      "source": [
        "## While"
      ],
      "metadata": {
        "id": "QuhYtdCQ1qsY"
      }
    },
    {
      "cell_type": "code",
      "source": [
        "contador=0\n",
        "while contador<=5:\n",
        "  print(contador)\n",
        "  contador+=1"
      ],
      "metadata": {
        "id": "3EawhipQHzW6",
        "colab": {
          "base_uri": "https://localhost:8080/"
        },
        "outputId": "c95deddc-2898-454f-8daf-0054686c54eb"
      },
      "execution_count": null,
      "outputs": [
        {
          "output_type": "stream",
          "name": "stdout",
          "text": [
            "0\n",
            "1\n",
            "2\n",
            "3\n",
            "4\n",
            "5\n"
          ]
        }
      ]
    },
    {
      "cell_type": "code",
      "source": [
        "contador=0\n",
        "while True:\n",
        "  print (contador)\n",
        "  contador+=1\n",
        "  if(contador==11):\n",
        "    break"
      ],
      "metadata": {
        "colab": {
          "base_uri": "https://localhost:8080/"
        },
        "id": "60RaOqbhC9_s",
        "outputId": "6af215f0-8fb4-4cbf-c58a-0358ed1566d4"
      },
      "execution_count": null,
      "outputs": [
        {
          "output_type": "stream",
          "name": "stdout",
          "text": [
            "0\n",
            "1\n",
            "2\n",
            "3\n",
            "4\n",
            "5\n",
            "6\n",
            "7\n",
            "8\n",
            "9\n",
            "10\n"
          ]
        }
      ]
    },
    {
      "cell_type": "markdown",
      "source": [
        "## For"
      ],
      "metadata": {
        "id": "BxdSUXXA1Xoa"
      }
    },
    {
      "cell_type": "code",
      "source": [
        "num=7\n",
        "primo=True\n",
        "for i in range(2,num):\n",
        "  if(num%i==0):\n",
        "    primo=False\n",
        "    break\n",
        "\n",
        "if (primo==False or num==1):\n",
        "  print(\"Não é primo\")\n",
        "else:\n",
        "  print(\"É primo\")"
      ],
      "metadata": {
        "colab": {
          "base_uri": "https://localhost:8080/"
        },
        "id": "wdZ_LOHraFWT",
        "outputId": "4620cc7c-752d-4b72-9745-95c38bc890e3"
      },
      "execution_count": null,
      "outputs": [
        {
          "output_type": "stream",
          "name": "stdout",
          "text": [
            "É primo\n"
          ]
        }
      ]
    },
    {
      "cell_type": "code",
      "source": [
        "num=10\n",
        "for i in range(2,num):\n",
        "  print(i)"
      ],
      "metadata": {
        "colab": {
          "base_uri": "https://localhost:8080/"
        },
        "id": "Cv2IkrJXpYtm",
        "outputId": "41cf4309-526e-4852-95df-64bcc9067543"
      },
      "execution_count": null,
      "outputs": [
        {
          "output_type": "stream",
          "name": "stdout",
          "text": [
            "2\n",
            "3\n",
            "4\n",
            "5\n",
            "6\n",
            "7\n",
            "8\n",
            "9\n"
          ]
        }
      ]
    },
    {
      "cell_type": "markdown",
      "source": [
        "## Continue\n"
      ],
      "metadata": {
        "id": "kZdIKOzt1MD5"
      }
    },
    {
      "cell_type": "code",
      "source": [
        "for i in range(10):\n",
        "  if(i%2==0):\n",
        "    continue\n",
        "  print(i)"
      ],
      "metadata": {
        "colab": {
          "base_uri": "https://localhost:8080/"
        },
        "id": "q0dEYAlD0vhw",
        "outputId": "bf4584d3-1b4b-4057-ba29-7387f46acbc6"
      },
      "execution_count": null,
      "outputs": [
        {
          "output_type": "stream",
          "name": "stdout",
          "text": [
            "1\n",
            "3\n",
            "5\n",
            "7\n",
            "9\n"
          ]
        }
      ]
    },
    {
      "cell_type": "markdown",
      "source": [
        "## Pass\n"
      ],
      "metadata": {
        "id": "4DrvJk7Z1_qu"
      }
    },
    {
      "cell_type": "code",
      "source": [
        "for i in range(10):\n",
        "  pass"
      ],
      "metadata": {
        "id": "Koc9Ec5GOd9J"
      },
      "execution_count": null,
      "outputs": []
    },
    {
      "cell_type": "markdown",
      "source": [
        "## Listas/Criação e acesso"
      ],
      "metadata": {
        "id": "gocpu6u0OuLB"
      }
    },
    {
      "cell_type": "code",
      "source": [
        "frutas=[\"maça\",\"banana\",\"Laranja\"]\n",
        "print(frutas[0])\n",
        "print(frutas[1])\n",
        "print(frutas[2])"
      ],
      "metadata": {
        "colab": {
          "base_uri": "https://localhost:8080/"
        },
        "id": "q8g3QNXePpUN",
        "outputId": "ada6fa3a-49e7-40ad-c2f9-d327a906e7b7"
      },
      "execution_count": null,
      "outputs": [
        {
          "output_type": "stream",
          "name": "stdout",
          "text": [
            "maça\n",
            "banana\n",
            "Laranja\n"
          ]
        }
      ]
    },
    {
      "cell_type": "code",
      "source": [
        "frutas=[\"maça\",\"banana\",\"Laranja\"]\n",
        "print(frutas[-1])\n",
        "print(frutas[-2])\n",
        "print(frutas[-3])"
      ],
      "metadata": {
        "colab": {
          "base_uri": "https://localhost:8080/"
        },
        "id": "WKiQAqNDQfiC",
        "outputId": "c345c97d-267f-4bf9-80b3-5e2922a11445"
      },
      "execution_count": null,
      "outputs": [
        {
          "output_type": "stream",
          "name": "stdout",
          "text": [
            "Laranja\n",
            "banana\n",
            "maça\n"
          ]
        }
      ]
    },
    {
      "cell_type": "markdown",
      "source": [
        "## Métodos de listas\n"
      ],
      "metadata": {
        "id": "pi3mtCkqrBvs"
      }
    },
    {
      "cell_type": "code",
      "source": [
        "frutas=[\"maça\",\"banana\",\"laranja\"]\n",
        "frutas.append(\"pera\")\n",
        "print(frutas)"
      ],
      "metadata": {
        "id": "Ew6_vu_brEwp",
        "colab": {
          "base_uri": "https://localhost:8080/"
        },
        "outputId": "46815d88-4d5d-4475-b9b6-f9756f57148c"
      },
      "execution_count": null,
      "outputs": [
        {
          "output_type": "stream",
          "name": "stdout",
          "text": [
            "['maça', 'banana', 'laranja', 'pera']\n"
          ]
        }
      ]
    },
    {
      "cell_type": "code",
      "source": [
        "frutas.insert(1,\"uva\")\n",
        "frutas.remove(\"banana\")\n",
        "print(frutas)"
      ],
      "metadata": {
        "id": "2lNWzdCTtGCj",
        "colab": {
          "base_uri": "https://localhost:8080/"
        },
        "outputId": "0e72d7b4-44cd-44f6-973a-f6196128ba2d"
      },
      "execution_count": null,
      "outputs": [
        {
          "output_type": "stream",
          "name": "stdout",
          "text": [
            "['maça', 'uva', 'laranja', 'pera']\n"
          ]
        }
      ]
    },
    {
      "cell_type": "code",
      "source": [
        "fruta_removida=frutas.pop(2)\n",
        "print(frutas)\n",
        "print(fruta_removida)"
      ],
      "metadata": {
        "id": "OUlZ3UjmHj9K",
        "colab": {
          "base_uri": "https://localhost:8080/"
        },
        "outputId": "63318f93-044e-4fae-820d-da4dc1a0529e"
      },
      "execution_count": null,
      "outputs": [
        {
          "output_type": "stream",
          "name": "stdout",
          "text": [
            "['maça', 'uva', 'pera']\n",
            "laranja\n"
          ]
        }
      ]
    },
    {
      "cell_type": "code",
      "source": [
        "frutas.sort()\n",
        "print(frutas)"
      ],
      "metadata": {
        "colab": {
          "base_uri": "https://localhost:8080/"
        },
        "id": "V2dCA174SfpE",
        "outputId": "3b318944-dbef-4ce5-a773-bd72fe212ebb"
      },
      "execution_count": null,
      "outputs": [
        {
          "output_type": "stream",
          "name": "stdout",
          "text": [
            "['maça', 'pera', 'uva']\n"
          ]
        }
      ]
    },
    {
      "cell_type": "code",
      "source": [
        "frutas.reverse()\n",
        "print(frutas)"
      ],
      "metadata": {
        "colab": {
          "base_uri": "https://localhost:8080/"
        },
        "id": "KrZ_RqKeSs5c",
        "outputId": "f33d9ee6-5110-4312-8bf7-13da7a7f8a5b"
      },
      "execution_count": null,
      "outputs": [
        {
          "output_type": "stream",
          "name": "stdout",
          "text": [
            "['uva', 'pera', 'maça']\n"
          ]
        }
      ]
    },
    {
      "cell_type": "markdown",
      "source": [
        "##Listas de Compreensão\n"
      ],
      "metadata": {
        "id": "0AqmRDwATJHl"
      }
    },
    {
      "cell_type": "code",
      "source": [
        "numeros=[1,2,3,4,5]\n",
        "quadrados=[x**2 for x in numeros if x%2==0]\n",
        "print(quadrados)"
      ],
      "metadata": {
        "colab": {
          "base_uri": "https://localhost:8080/"
        },
        "id": "6mYpjLLETSh9",
        "outputId": "72601115-8031-4940-add1-a0a3d723568b"
      },
      "execution_count": null,
      "outputs": [
        {
          "output_type": "stream",
          "name": "stdout",
          "text": [
            "[4, 16]\n"
          ]
        }
      ]
    },
    {
      "cell_type": "markdown",
      "source": [
        "## Tuplas\n",
        "# Criação e acesso\n"
      ],
      "metadata": {
        "id": "JMiMleB-omZS"
      }
    },
    {
      "cell_type": "code",
      "source": [
        "minha_tupla=(1,3,2,4,2)\n",
        "print(len(minha_tupla))"
      ],
      "metadata": {
        "id": "Cc5Nk46roucl",
        "colab": {
          "base_uri": "https://localhost:8080/"
        },
        "outputId": "d45e52ab-b6ee-45d7-faa2-549f011fb143"
      },
      "execution_count": null,
      "outputs": [
        {
          "output_type": "stream",
          "name": "stdout",
          "text": [
            "5\n"
          ]
        }
      ]
    },
    {
      "cell_type": "code",
      "source": [
        "print(minha_tupla.index(4))"
      ],
      "metadata": {
        "colab": {
          "base_uri": "https://localhost:8080/"
        },
        "id": "5wSLYo_rDymB",
        "outputId": "1dec30c9-7452-454a-b9f9-86ff2888f3b4"
      },
      "execution_count": null,
      "outputs": [
        {
          "output_type": "stream",
          "name": "stdout",
          "text": [
            "3\n"
          ]
        }
      ]
    },
    {
      "cell_type": "code",
      "source": [
        "print(minha_tupla.count(3))"
      ],
      "metadata": {
        "colab": {
          "base_uri": "https://localhost:8080/"
        },
        "id": "W6j9LWVyD8Mj",
        "outputId": "801015b1-7a49-4dae-c31a-08d774f4a54a"
      },
      "execution_count": null,
      "outputs": [
        {
          "output_type": "stream",
          "name": "stdout",
          "text": [
            "1\n"
          ]
        }
      ]
    },
    {
      "cell_type": "markdown",
      "source": [
        "## Dicionários\n",
        "# Criação/Acesso/Métodos\n"
      ],
      "metadata": {
        "id": "BuRjpQxnDKkG"
      }
    },
    {
      "cell_type": "code",
      "source": [
        "pessoa={\"nome\":\"José\",\"idade\":25,\"cidade\":\"Madri\"}\n",
        "print(pessoa[\"nome\"])\n",
        "print(pessoa[\"idade\"])\n",
        "print(pessoa[\"cidade\"])"
      ],
      "metadata": {
        "colab": {
          "base_uri": "https://localhost:8080/"
        },
        "id": "ejVBUaWiDZi9",
        "outputId": "74b83b36-dcb2-49a9-fb47-40c4d451a98a"
      },
      "execution_count": 3,
      "outputs": [
        {
          "output_type": "stream",
          "name": "stdout",
          "text": [
            "José\n",
            "25\n",
            "Madri\n"
          ]
        }
      ]
    },
    {
      "cell_type": "code",
      "source": [
        "print(pessoa.keys())\n",
        "print(pessoa.values())\n",
        "print(pessoa.items())"
      ],
      "metadata": {
        "colab": {
          "base_uri": "https://localhost:8080/"
        },
        "id": "IU6vU-prE0Y5",
        "outputId": "34fc4bab-26de-41fe-c9dc-5515b48f30ac"
      },
      "execution_count": 9,
      "outputs": [
        {
          "output_type": "stream",
          "name": "stdout",
          "text": [
            "dict_keys(['nome', 'idade', 'cidade'])\n",
            "dict_values(['José', 25, 'Madri'])\n",
            "dict_items([('nome', 'José'), ('idade', 25), ('cidade', 'Madri')])\n"
          ]
        }
      ]
    },
    {
      "cell_type": "code",
      "source": [
        "pessoa.update({\"profissão\":\"Engenheiro\"})\n",
        "print(pessoa)"
      ],
      "metadata": {
        "colab": {
          "base_uri": "https://localhost:8080/"
        },
        "id": "VMwMj4xIOIW9",
        "outputId": "662490a4-7996-4697-a059-17f1d3ced7ba"
      },
      "execution_count": 11,
      "outputs": [
        {
          "output_type": "stream",
          "name": "stdout",
          "text": [
            "{'nome': 'José', 'idade': 25, 'cidade': 'Madri', 'profissão': 'Engenheiro'}\n"
          ]
        }
      ]
    },
    {
      "cell_type": "markdown",
      "source": [
        "## Conjuntos\n",
        "\n"
      ],
      "metadata": {
        "id": "3smug4WQOx_D"
      }
    },
    {
      "cell_type": "code",
      "source": [
        "frutas={\"maça\",\"banana\",\"laranja\"}\n",
        "numeros=set([1,2,3,4,5])"
      ],
      "metadata": {
        "id": "FVRx-BMaO41b"
      },
      "execution_count": 12,
      "outputs": []
    },
    {
      "cell_type": "code",
      "source": [
        "A={1,2,3}\n",
        "B={3,4,5}"
      ],
      "metadata": {
        "id": "cUbPkvXTTwiZ"
      },
      "execution_count": 13,
      "outputs": []
    },
    {
      "cell_type": "code",
      "source": [
        "uniao=A|B\n",
        "print(uniao)"
      ],
      "metadata": {
        "colab": {
          "base_uri": "https://localhost:8080/"
        },
        "id": "AjSInLMtT4a8",
        "outputId": "97677411-1415-4860-8e99-a3dd65a67045"
      },
      "execution_count": 14,
      "outputs": [
        {
          "output_type": "stream",
          "name": "stdout",
          "text": [
            "{1, 2, 3, 4, 5}\n"
          ]
        }
      ]
    },
    {
      "cell_type": "code",
      "source": [
        "intersecao=A&B\n",
        "print(intersecao)"
      ],
      "metadata": {
        "colab": {
          "base_uri": "https://localhost:8080/"
        },
        "id": "XqW_moguX2Y_",
        "outputId": "984e9d3f-6031-4d23-a8d9-25489c2bd126"
      },
      "execution_count": 17,
      "outputs": [
        {
          "output_type": "stream",
          "name": "stdout",
          "text": [
            "{3}\n"
          ]
        }
      ]
    },
    {
      "cell_type": "code",
      "source": [
        "diferenca=A-B\n",
        "print(diferenca)"
      ],
      "metadata": {
        "colab": {
          "base_uri": "https://localhost:8080/"
        },
        "id": "ctil3zPtX_hc",
        "outputId": "941d478e-37f3-4696-8979-8a829e54aff8"
      },
      "execution_count": 19,
      "outputs": [
        {
          "output_type": "stream",
          "name": "stdout",
          "text": [
            "{1, 2}\n"
          ]
        }
      ]
    },
    {
      "cell_type": "code",
      "source": [
        "diferenca_simetrica=A^B\n",
        "print(diferenca_simetrica)"
      ],
      "metadata": {
        "colab": {
          "base_uri": "https://localhost:8080/"
        },
        "id": "5a79dsYaYmUZ",
        "outputId": "c9729b11-f9b7-4fbb-aa78-0fcd462870a0"
      },
      "execution_count": 20,
      "outputs": [
        {
          "output_type": "stream",
          "name": "stdout",
          "text": [
            "{1, 2, 4, 5}\n"
          ]
        }
      ]
    },
    {
      "cell_type": "markdown",
      "source": [
        "## Métodos\n"
      ],
      "metadata": {
        "id": "on49RJakZjMv"
      }
    },
    {
      "cell_type": "code",
      "source": [
        "frutas.add(\"pera\")\n",
        "print(frutas)"
      ],
      "metadata": {
        "colab": {
          "base_uri": "https://localhost:8080/"
        },
        "id": "F0ht27zkZrwZ",
        "outputId": "fc51d2be-7f25-4a28-8c97-52727cfec7f2"
      },
      "execution_count": 22,
      "outputs": [
        {
          "output_type": "stream",
          "name": "stdout",
          "text": [
            "{'maça', 'pera', 'banana', 'laranja'}\n"
          ]
        }
      ]
    },
    {
      "cell_type": "code",
      "source": [
        "frutas.remove(\"banana\")\n",
        "print(frutas)"
      ],
      "metadata": {
        "colab": {
          "base_uri": "https://localhost:8080/"
        },
        "id": "jGtOExhCZ4Nn",
        "outputId": "45efc026-77f0-4065-8c98-b34536586419"
      },
      "execution_count": 23,
      "outputs": [
        {
          "output_type": "stream",
          "name": "stdout",
          "text": [
            "{'maça', 'pera', 'laranja'}\n"
          ]
        }
      ]
    },
    {
      "cell_type": "code",
      "source": [
        "frutas.discard(\"uva\")\n",
        "print(frutas)"
      ],
      "metadata": {
        "colab": {
          "base_uri": "https://localhost:8080/"
        },
        "id": "ChtLdsHEaApR",
        "outputId": "3fd0d0a3-d35b-4d7a-aaf5-4a75177f330b"
      },
      "execution_count": 24,
      "outputs": [
        {
          "output_type": "stream",
          "name": "stdout",
          "text": [
            "{'maça', 'pera', 'laranja'}\n"
          ]
        }
      ]
    },
    {
      "cell_type": "code",
      "source": [
        "frutas.clear()\n",
        "print(\"frutas\")"
      ],
      "metadata": {
        "colab": {
          "base_uri": "https://localhost:8080/"
        },
        "id": "zV71rwhmaqWt",
        "outputId": "57b6e0c5-d85b-4679-c113-7cee02be7307"
      },
      "execution_count": 25,
      "outputs": [
        {
          "output_type": "stream",
          "name": "stdout",
          "text": [
            "frutas\n"
          ]
        }
      ]
    },
    {
      "cell_type": "markdown",
      "source": [],
      "metadata": {
        "id": "WD27qW0UZgDk"
      }
    }
  ]
}