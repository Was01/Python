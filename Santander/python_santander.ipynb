{
  "nbformat": 4,
  "nbformat_minor": 0,
  "metadata": {
    "colab": {
      "provenance": [],
      "authorship_tag": "ABX9TyPZySqk68fKc/azNgDeH8/D",
      "include_colab_link": true
    },
    "kernelspec": {
      "name": "python3",
      "display_name": "Python 3"
    },
    "language_info": {
      "name": "python"
    }
  },
  "cells": [
    {
      "cell_type": "markdown",
      "metadata": {
        "id": "view-in-github",
        "colab_type": "text"
      },
      "source": [
        "<a href=\"https://colab.research.google.com/github/Was01/Python/blob/main/Santander/python_santander.ipynb\" target=\"_parent\"><img src=\"https://colab.research.google.com/assets/colab-badge.svg\" alt=\"Open In Colab\"/></a>"
      ]
    },
    {
      "cell_type": "code",
      "execution_count": 1,
      "metadata": {
        "colab": {
          "base_uri": "https://localhost:8080/"
        },
        "id": "kcsJWKeK3NMh",
        "outputId": "30dc30f2-e39d-4c74-ab63-c1b68e4ed3a8"
      },
      "outputs": [
        {
          "output_type": "stream",
          "name": "stdout",
          "text": [
            "Olá mundo!!!\n"
          ]
        }
      ],
      "source": [
        "print(\"Olá mundo!!!\")"
      ]
    },
    {
      "cell_type": "markdown",
      "source": [
        "## if/else/elif"
      ],
      "metadata": {
        "id": "TNbNfwvR1yRN"
      }
    },
    {
      "cell_type": "code",
      "source": [
        "nota=75\n",
        "if nota>=90:\n",
        "  print(\"Excelente\")\n",
        "elif nota>=80:\n",
        "  print(\"Muito bom\")\n",
        "elif nota>=70:\n",
        "  print(\"Bom\")\n",
        "else:\n",
        "  print(\"Precisa melhorar\")"
      ],
      "metadata": {
        "id": "738Xvw1e3wer",
        "colab": {
          "base_uri": "https://localhost:8080/"
        },
        "outputId": "bd35bfd0-c862-4bbd-e0a1-b58149d75482"
      },
      "execution_count": 2,
      "outputs": [
        {
          "output_type": "stream",
          "name": "stdout",
          "text": [
            "Bom\n"
          ]
        }
      ]
    },
    {
      "cell_type": "markdown",
      "source": [
        "## Listas"
      ],
      "metadata": {
        "id": "0ngLL-ro1vEV"
      }
    },
    {
      "cell_type": "code",
      "source": [
        "frutas=['maça','banana','laranja','morango']\n",
        "for fruta in frutas:\n",
        "  print(fruta)"
      ],
      "metadata": {
        "id": "5tyNNAX68xH9",
        "colab": {
          "base_uri": "https://localhost:8080/"
        },
        "outputId": "7da9aab9-e56a-4e43-d91e-c65a810da91e"
      },
      "execution_count": 3,
      "outputs": [
        {
          "output_type": "stream",
          "name": "stdout",
          "text": [
            "maça\n",
            "banana\n",
            "laranja\n",
            "morango\n"
          ]
        }
      ]
    },
    {
      "cell_type": "markdown",
      "source": [
        "## While"
      ],
      "metadata": {
        "id": "QuhYtdCQ1qsY"
      }
    },
    {
      "cell_type": "code",
      "source": [
        "contador=0\n",
        "while contador<=5:\n",
        "  print(contador)\n",
        "  contador+=1"
      ],
      "metadata": {
        "id": "3EawhipQHzW6",
        "colab": {
          "base_uri": "https://localhost:8080/"
        },
        "outputId": "4b8d19a1-db5c-4509-c078-8a986d7b0135"
      },
      "execution_count": 4,
      "outputs": [
        {
          "output_type": "stream",
          "name": "stdout",
          "text": [
            "0\n",
            "1\n",
            "2\n",
            "3\n",
            "4\n",
            "5\n"
          ]
        }
      ]
    },
    {
      "cell_type": "code",
      "source": [
        "contador=0\n",
        "while True:\n",
        "  print (contador)\n",
        "  contador+=1\n",
        "  if(contador==11):\n",
        "    break"
      ],
      "metadata": {
        "colab": {
          "base_uri": "https://localhost:8080/"
        },
        "id": "60RaOqbhC9_s",
        "outputId": "ff3603f6-3a21-4d19-9cbf-e180cffb0fdd"
      },
      "execution_count": 5,
      "outputs": [
        {
          "output_type": "stream",
          "name": "stdout",
          "text": [
            "0\n",
            "1\n",
            "2\n",
            "3\n",
            "4\n",
            "5\n",
            "6\n",
            "7\n",
            "8\n",
            "9\n",
            "10\n"
          ]
        }
      ]
    },
    {
      "cell_type": "markdown",
      "source": [
        "## For"
      ],
      "metadata": {
        "id": "BxdSUXXA1Xoa"
      }
    },
    {
      "cell_type": "code",
      "source": [
        "num=7\n",
        "primo=True\n",
        "for i in range(2,num):\n",
        "  if(num%i==0):\n",
        "    primo=False\n",
        "    break\n",
        "\n",
        "if (primo==False or num==1):\n",
        "  print(\"Não é primo\")\n",
        "else:\n",
        "  print(\"É primo\")"
      ],
      "metadata": {
        "colab": {
          "base_uri": "https://localhost:8080/"
        },
        "id": "wdZ_LOHraFWT",
        "outputId": "7be13787-d46e-480c-ed64-374752d01caa"
      },
      "execution_count": 6,
      "outputs": [
        {
          "output_type": "stream",
          "name": "stdout",
          "text": [
            "É primo\n"
          ]
        }
      ]
    },
    {
      "cell_type": "code",
      "source": [
        "num=10\n",
        "for i in range(2,num):\n",
        "  print(i)"
      ],
      "metadata": {
        "colab": {
          "base_uri": "https://localhost:8080/"
        },
        "id": "Cv2IkrJXpYtm",
        "outputId": "60244687-8c7a-4b4e-fa7c-0c5f62a7a23d"
      },
      "execution_count": 7,
      "outputs": [
        {
          "output_type": "stream",
          "name": "stdout",
          "text": [
            "2\n",
            "3\n",
            "4\n",
            "5\n",
            "6\n",
            "7\n",
            "8\n",
            "9\n"
          ]
        }
      ]
    },
    {
      "cell_type": "markdown",
      "source": [
        "## Continue\n"
      ],
      "metadata": {
        "id": "kZdIKOzt1MD5"
      }
    },
    {
      "cell_type": "code",
      "source": [
        "for i in range(10):\n",
        "  if(i%2==0):\n",
        "    continue\n",
        "  print(i)"
      ],
      "metadata": {
        "colab": {
          "base_uri": "https://localhost:8080/"
        },
        "id": "q0dEYAlD0vhw",
        "outputId": "6a187e9f-5a05-4087-9a3d-94a9859e62f5"
      },
      "execution_count": 8,
      "outputs": [
        {
          "output_type": "stream",
          "name": "stdout",
          "text": [
            "1\n",
            "3\n",
            "5\n",
            "7\n",
            "9\n"
          ]
        }
      ]
    },
    {
      "cell_type": "markdown",
      "source": [
        "## Pass\n"
      ],
      "metadata": {
        "id": "4DrvJk7Z1_qu"
      }
    },
    {
      "cell_type": "code",
      "source": [
        "for i in range(10):\n",
        "  pass"
      ],
      "metadata": {
        "id": "Koc9Ec5GOd9J"
      },
      "execution_count": 9,
      "outputs": []
    },
    {
      "cell_type": "markdown",
      "source": [
        "## Listas/Criação e acesso"
      ],
      "metadata": {
        "id": "gocpu6u0OuLB"
      }
    },
    {
      "cell_type": "code",
      "source": [
        "frutas=[\"maça\",\"banana\",\"Laranja\"]\n",
        "print(frutas[0])\n",
        "print(frutas[1])\n",
        "print(frutas[2])"
      ],
      "metadata": {
        "colab": {
          "base_uri": "https://localhost:8080/"
        },
        "id": "q8g3QNXePpUN",
        "outputId": "2a8598f7-32bb-49e3-fa8b-e7b0e1b55da3"
      },
      "execution_count": 10,
      "outputs": [
        {
          "output_type": "stream",
          "name": "stdout",
          "text": [
            "maça\n",
            "banana\n",
            "Laranja\n"
          ]
        }
      ]
    },
    {
      "cell_type": "code",
      "source": [
        "frutas=[\"maça\",\"banana\",\"Laranja\"]\n",
        "print(frutas[-1])\n",
        "print(frutas[-2])\n",
        "print(frutas[-3])"
      ],
      "metadata": {
        "colab": {
          "base_uri": "https://localhost:8080/"
        },
        "id": "WKiQAqNDQfiC",
        "outputId": "09825adf-e3f4-4c45-97ee-0db6f55713b6"
      },
      "execution_count": 11,
      "outputs": [
        {
          "output_type": "stream",
          "name": "stdout",
          "text": [
            "Laranja\n",
            "banana\n",
            "maça\n"
          ]
        }
      ]
    },
    {
      "cell_type": "markdown",
      "source": [
        "## Métodos de listas\n"
      ],
      "metadata": {
        "id": "pi3mtCkqrBvs"
      }
    },
    {
      "cell_type": "code",
      "source": [
        "frutas=[\"maça\",\"banana\",\"laranja\"]\n",
        "frutas.append(\"pera\")\n",
        "print(frutas)"
      ],
      "metadata": {
        "id": "Ew6_vu_brEwp",
        "colab": {
          "base_uri": "https://localhost:8080/"
        },
        "outputId": "05b41748-7ca7-44c9-f9fa-c1298bff2fc4"
      },
      "execution_count": 12,
      "outputs": [
        {
          "output_type": "stream",
          "name": "stdout",
          "text": [
            "['maça', 'banana', 'laranja', 'pera']\n"
          ]
        }
      ]
    },
    {
      "cell_type": "code",
      "source": [
        "frutas.insert(1,\"uva\")\n",
        "frutas.remove(\"banana\")\n",
        "print(frutas)"
      ],
      "metadata": {
        "id": "2lNWzdCTtGCj",
        "colab": {
          "base_uri": "https://localhost:8080/"
        },
        "outputId": "d00f8374-2cac-4f9b-af7f-e7fd5ae55020"
      },
      "execution_count": 13,
      "outputs": [
        {
          "output_type": "stream",
          "name": "stdout",
          "text": [
            "['maça', 'uva', 'laranja', 'pera']\n"
          ]
        }
      ]
    },
    {
      "cell_type": "code",
      "source": [
        "fruta_removida=frutas.pop(2)\n",
        "print(frutas)\n",
        "print(fruta_removida)"
      ],
      "metadata": {
        "id": "OUlZ3UjmHj9K",
        "colab": {
          "base_uri": "https://localhost:8080/"
        },
        "outputId": "4c0f1e14-007b-4fca-a834-6f464b6dd5ed"
      },
      "execution_count": 14,
      "outputs": [
        {
          "output_type": "stream",
          "name": "stdout",
          "text": [
            "['maça', 'uva', 'pera']\n",
            "laranja\n"
          ]
        }
      ]
    },
    {
      "cell_type": "code",
      "source": [
        "frutas.sort()\n",
        "print(frutas)"
      ],
      "metadata": {
        "colab": {
          "base_uri": "https://localhost:8080/"
        },
        "id": "V2dCA174SfpE",
        "outputId": "67972621-44c6-42cb-b99f-c1dd2e38b788"
      },
      "execution_count": 15,
      "outputs": [
        {
          "output_type": "stream",
          "name": "stdout",
          "text": [
            "['maça', 'pera', 'uva']\n"
          ]
        }
      ]
    },
    {
      "cell_type": "code",
      "source": [
        "frutas.reverse()\n",
        "print(frutas)"
      ],
      "metadata": {
        "colab": {
          "base_uri": "https://localhost:8080/"
        },
        "id": "KrZ_RqKeSs5c",
        "outputId": "69cc49ab-6f14-4fc3-d849-5039d239d574"
      },
      "execution_count": 16,
      "outputs": [
        {
          "output_type": "stream",
          "name": "stdout",
          "text": [
            "['uva', 'pera', 'maça']\n"
          ]
        }
      ]
    },
    {
      "cell_type": "markdown",
      "source": [
        "##Listas de Compreensão\n"
      ],
      "metadata": {
        "id": "0AqmRDwATJHl"
      }
    },
    {
      "cell_type": "code",
      "source": [
        "numeros=[1,2,3,4,5]\n",
        "quadrados=[x**2 for x in numeros if x%2==0]\n",
        "print(quadrados)"
      ],
      "metadata": {
        "colab": {
          "base_uri": "https://localhost:8080/"
        },
        "id": "6mYpjLLETSh9",
        "outputId": "49453581-c14a-4b9e-b960-ae77a26b7faa"
      },
      "execution_count": 17,
      "outputs": [
        {
          "output_type": "stream",
          "name": "stdout",
          "text": [
            "[4, 16]\n"
          ]
        }
      ]
    },
    {
      "cell_type": "markdown",
      "source": [
        "## Tuplas\n",
        "# Criação e acesso\n"
      ],
      "metadata": {
        "id": "JMiMleB-omZS"
      }
    },
    {
      "cell_type": "code",
      "source": [
        "minha_tupla=(1,3,2,4,2)\n",
        "print(len(minha_tupla))"
      ],
      "metadata": {
        "id": "Cc5Nk46roucl",
        "colab": {
          "base_uri": "https://localhost:8080/"
        },
        "outputId": "4f2464f1-5529-413e-fd0f-ed5c94917463"
      },
      "execution_count": 18,
      "outputs": [
        {
          "output_type": "stream",
          "name": "stdout",
          "text": [
            "5\n"
          ]
        }
      ]
    },
    {
      "cell_type": "code",
      "source": [
        "print(minha_tupla.index(4))"
      ],
      "metadata": {
        "colab": {
          "base_uri": "https://localhost:8080/"
        },
        "id": "5wSLYo_rDymB",
        "outputId": "d7fc3b64-f791-4de9-9461-1b2a7e09809c"
      },
      "execution_count": 19,
      "outputs": [
        {
          "output_type": "stream",
          "name": "stdout",
          "text": [
            "3\n"
          ]
        }
      ]
    },
    {
      "cell_type": "code",
      "source": [
        "print(minha_tupla.count(3))"
      ],
      "metadata": {
        "colab": {
          "base_uri": "https://localhost:8080/"
        },
        "id": "W6j9LWVyD8Mj",
        "outputId": "ab22951a-1bbe-4602-93e6-e9d71fe21496"
      },
      "execution_count": 20,
      "outputs": [
        {
          "output_type": "stream",
          "name": "stdout",
          "text": [
            "1\n"
          ]
        }
      ]
    },
    {
      "cell_type": "markdown",
      "source": [
        "## Dicionários\n",
        "# Criação/Acesso/Métodos\n"
      ],
      "metadata": {
        "id": "BuRjpQxnDKkG"
      }
    },
    {
      "cell_type": "code",
      "source": [
        "pessoa={\"nome\":\"José\",\"idade\":25,\"cidade\":\"Madri\"}\n",
        "print(pessoa[\"nome\"])\n",
        "print(pessoa[\"idade\"])\n",
        "print(pessoa[\"cidade\"])"
      ],
      "metadata": {
        "colab": {
          "base_uri": "https://localhost:8080/"
        },
        "id": "ejVBUaWiDZi9",
        "outputId": "8e313b76-c4f0-43b9-d9c9-946174564891"
      },
      "execution_count": 21,
      "outputs": [
        {
          "output_type": "stream",
          "name": "stdout",
          "text": [
            "José\n",
            "25\n",
            "Madri\n"
          ]
        }
      ]
    },
    {
      "cell_type": "code",
      "source": [
        "print(pessoa.keys())\n",
        "print(pessoa.values())\n",
        "print(pessoa.items())"
      ],
      "metadata": {
        "colab": {
          "base_uri": "https://localhost:8080/"
        },
        "id": "IU6vU-prE0Y5",
        "outputId": "bd88fd91-cbeb-471a-f7a3-664b9b7bc05c"
      },
      "execution_count": 22,
      "outputs": [
        {
          "output_type": "stream",
          "name": "stdout",
          "text": [
            "dict_keys(['nome', 'idade', 'cidade'])\n",
            "dict_values(['José', 25, 'Madri'])\n",
            "dict_items([('nome', 'José'), ('idade', 25), ('cidade', 'Madri')])\n"
          ]
        }
      ]
    },
    {
      "cell_type": "code",
      "source": [
        "pessoa.update({\"profissão\":\"Engenheiro\"})\n",
        "print(pessoa)"
      ],
      "metadata": {
        "colab": {
          "base_uri": "https://localhost:8080/"
        },
        "id": "VMwMj4xIOIW9",
        "outputId": "c1fe2291-8ac9-4e73-d04a-beb9defc0c82"
      },
      "execution_count": 23,
      "outputs": [
        {
          "output_type": "stream",
          "name": "stdout",
          "text": [
            "{'nome': 'José', 'idade': 25, 'cidade': 'Madri', 'profissão': 'Engenheiro'}\n"
          ]
        }
      ]
    },
    {
      "cell_type": "markdown",
      "source": [
        "## Conjuntos\n",
        "\n"
      ],
      "metadata": {
        "id": "3smug4WQOx_D"
      }
    },
    {
      "cell_type": "code",
      "source": [
        "frutas={\"maça\",\"banana\",\"laranja\"}\n",
        "numeros=set([1,2,3,4,5])"
      ],
      "metadata": {
        "id": "FVRx-BMaO41b"
      },
      "execution_count": 24,
      "outputs": []
    },
    {
      "cell_type": "code",
      "source": [
        "A={1,2,3}\n",
        "B={3,4,5}"
      ],
      "metadata": {
        "id": "cUbPkvXTTwiZ"
      },
      "execution_count": 25,
      "outputs": []
    },
    {
      "cell_type": "code",
      "source": [
        "uniao=A|B\n",
        "print(uniao)"
      ],
      "metadata": {
        "colab": {
          "base_uri": "https://localhost:8080/"
        },
        "id": "AjSInLMtT4a8",
        "outputId": "96440499-b87f-4ed3-96dc-e6491b5bcb23"
      },
      "execution_count": 26,
      "outputs": [
        {
          "output_type": "stream",
          "name": "stdout",
          "text": [
            "{1, 2, 3, 4, 5}\n"
          ]
        }
      ]
    },
    {
      "cell_type": "code",
      "source": [
        "intersecao=A&B\n",
        "print(intersecao)"
      ],
      "metadata": {
        "colab": {
          "base_uri": "https://localhost:8080/"
        },
        "id": "XqW_moguX2Y_",
        "outputId": "92b06091-fc25-4550-998f-d6972ec6512e"
      },
      "execution_count": 27,
      "outputs": [
        {
          "output_type": "stream",
          "name": "stdout",
          "text": [
            "{3}\n"
          ]
        }
      ]
    },
    {
      "cell_type": "code",
      "source": [
        "diferenca=A-B\n",
        "print(diferenca)"
      ],
      "metadata": {
        "colab": {
          "base_uri": "https://localhost:8080/"
        },
        "id": "ctil3zPtX_hc",
        "outputId": "544f035f-92c2-4e8e-c9e8-238e96268d05"
      },
      "execution_count": 28,
      "outputs": [
        {
          "output_type": "stream",
          "name": "stdout",
          "text": [
            "{1, 2}\n"
          ]
        }
      ]
    },
    {
      "cell_type": "code",
      "source": [
        "diferenca_simetrica=A^B\n",
        "print(diferenca_simetrica)"
      ],
      "metadata": {
        "colab": {
          "base_uri": "https://localhost:8080/"
        },
        "id": "5a79dsYaYmUZ",
        "outputId": "fbc68620-cf77-4067-8f80-3eb794a3ba94"
      },
      "execution_count": 29,
      "outputs": [
        {
          "output_type": "stream",
          "name": "stdout",
          "text": [
            "{1, 2, 4, 5}\n"
          ]
        }
      ]
    },
    {
      "cell_type": "markdown",
      "source": [
        "## Métodos\n"
      ],
      "metadata": {
        "id": "on49RJakZjMv"
      }
    },
    {
      "cell_type": "code",
      "source": [
        "frutas.add(\"pera\")\n",
        "print(frutas)"
      ],
      "metadata": {
        "colab": {
          "base_uri": "https://localhost:8080/"
        },
        "id": "F0ht27zkZrwZ",
        "outputId": "b7053a57-a475-4bd5-a4b8-52a97ccfa6a0"
      },
      "execution_count": 30,
      "outputs": [
        {
          "output_type": "stream",
          "name": "stdout",
          "text": [
            "{'banana', 'pera', 'maça', 'laranja'}\n"
          ]
        }
      ]
    },
    {
      "cell_type": "code",
      "source": [
        "frutas.remove(\"banana\")\n",
        "print(frutas)"
      ],
      "metadata": {
        "colab": {
          "base_uri": "https://localhost:8080/"
        },
        "id": "jGtOExhCZ4Nn",
        "outputId": "dcdca47a-e4de-4eee-ba65-62ca207f2a8e"
      },
      "execution_count": 31,
      "outputs": [
        {
          "output_type": "stream",
          "name": "stdout",
          "text": [
            "{'pera', 'maça', 'laranja'}\n"
          ]
        }
      ]
    },
    {
      "cell_type": "code",
      "source": [
        "frutas.discard(\"uva\")\n",
        "print(frutas)"
      ],
      "metadata": {
        "colab": {
          "base_uri": "https://localhost:8080/"
        },
        "id": "ChtLdsHEaApR",
        "outputId": "7f669f0f-7b86-47c2-e499-db01ad4cdee8"
      },
      "execution_count": 32,
      "outputs": [
        {
          "output_type": "stream",
          "name": "stdout",
          "text": [
            "{'pera', 'maça', 'laranja'}\n"
          ]
        }
      ]
    },
    {
      "cell_type": "code",
      "source": [
        "frutas.clear()\n",
        "print(frutas)"
      ],
      "metadata": {
        "colab": {
          "base_uri": "https://localhost:8080/"
        },
        "id": "zV71rwhmaqWt",
        "outputId": "0d747551-0f49-43c8-9d60-19fb01b1c939"
      },
      "execution_count": 33,
      "outputs": [
        {
          "output_type": "stream",
          "name": "stdout",
          "text": [
            "set()\n"
          ]
        }
      ]
    },
    {
      "cell_type": "markdown",
      "source": [
        "## Funções\n",
        "#Definição e chamada de funções\n"
      ],
      "metadata": {
        "id": "Y41PpNFSz1ZU"
      }
    },
    {
      "cell_type": "code",
      "source": [
        "def saudacao():\n",
        "  print(\"Olá mundo!!!\")\n",
        "\n",
        "saudacao()\n"
      ],
      "metadata": {
        "colab": {
          "base_uri": "https://localhost:8080/"
        },
        "id": "FIiNQ6w40Czc",
        "outputId": "6d307435-0450-4f40-86fe-e3a5d6263f86"
      },
      "execution_count": 35,
      "outputs": [
        {
          "output_type": "stream",
          "name": "stdout",
          "text": [
            "Olá mundo!!!\n"
          ]
        }
      ]
    },
    {
      "cell_type": "markdown",
      "source": [],
      "metadata": {
        "id": "WD27qW0UZgDk"
      }
    }
  ]
}