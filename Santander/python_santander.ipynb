{
  "nbformat": 4,
  "nbformat_minor": 0,
  "metadata": {
    "colab": {
      "provenance": [],
      "authorship_tag": "ABX9TyOXZ0p8YltI7xLPDIyciGkc",
      "include_colab_link": true
    },
    "kernelspec": {
      "name": "python3",
      "display_name": "Python 3"
    },
    "language_info": {
      "name": "python"
    }
  },
  "cells": [
    {
      "cell_type": "markdown",
      "metadata": {
        "id": "view-in-github",
        "colab_type": "text"
      },
      "source": [
        "<a href=\"https://colab.research.google.com/github/Was01/Python/blob/main/Santander/python_santander.ipynb\" target=\"_parent\"><img src=\"https://colab.research.google.com/assets/colab-badge.svg\" alt=\"Open In Colab\"/></a>"
      ]
    },
    {
      "cell_type": "code",
      "execution_count": 3,
      "metadata": {
        "colab": {
          "base_uri": "https://localhost:8080/"
        },
        "id": "kcsJWKeK3NMh",
        "outputId": "786c4b3c-a7be-4e75-a60e-ce5cfb515122"
      },
      "outputs": [
        {
          "output_type": "stream",
          "name": "stdout",
          "text": [
            "Olá mundo!!!\n"
          ]
        }
      ],
      "source": [
        "print(\"Olá mundo!!!\")"
      ]
    },
    {
      "cell_type": "markdown",
      "source": [
        "## if/else/elif"
      ],
      "metadata": {
        "id": "TNbNfwvR1yRN"
      }
    },
    {
      "cell_type": "code",
      "source": [
        "nota=75\n",
        "if nota>=90:\n",
        "  print(\"Excelente\")\n",
        "elif nota>=80:\n",
        "  print(\"Muito bom\")\n",
        "elif nota>=70:\n",
        "  print(\"Bom\")\n",
        "else:\n",
        "  print(\"Precisa melhorar\")"
      ],
      "metadata": {
        "id": "738Xvw1e3wer",
        "colab": {
          "base_uri": "https://localhost:8080/"
        },
        "outputId": "3ae7e11f-d0d9-498b-ee57-c6b3939c607f"
      },
      "execution_count": 4,
      "outputs": [
        {
          "output_type": "stream",
          "name": "stdout",
          "text": [
            "Bom\n"
          ]
        }
      ]
    },
    {
      "cell_type": "markdown",
      "source": [
        "## Listas"
      ],
      "metadata": {
        "id": "0ngLL-ro1vEV"
      }
    },
    {
      "cell_type": "code",
      "source": [
        "frutas=['maça','banana','laranja','morango']\n",
        "for fruta in frutas:\n",
        "  print(fruta)"
      ],
      "metadata": {
        "id": "5tyNNAX68xH9",
        "colab": {
          "base_uri": "https://localhost:8080/"
        },
        "outputId": "5b179258-4602-4fc1-f2cf-c36278a5eaa6"
      },
      "execution_count": 5,
      "outputs": [
        {
          "output_type": "stream",
          "name": "stdout",
          "text": [
            "maça\n",
            "banana\n",
            "laranja\n",
            "morango\n"
          ]
        }
      ]
    },
    {
      "cell_type": "markdown",
      "source": [
        "## While"
      ],
      "metadata": {
        "id": "QuhYtdCQ1qsY"
      }
    },
    {
      "cell_type": "code",
      "source": [
        "contador=0\n",
        "while contador<=5:\n",
        "  print(contador)\n",
        "  contador+=1"
      ],
      "metadata": {
        "id": "3EawhipQHzW6",
        "colab": {
          "base_uri": "https://localhost:8080/"
        },
        "outputId": "605dc6a1-9a40-4412-82c0-06d68d0df455"
      },
      "execution_count": 6,
      "outputs": [
        {
          "output_type": "stream",
          "name": "stdout",
          "text": [
            "0\n",
            "1\n",
            "2\n",
            "3\n",
            "4\n",
            "5\n"
          ]
        }
      ]
    },
    {
      "cell_type": "code",
      "source": [
        "contador=0\n",
        "while True:\n",
        "  print (contador)\n",
        "  contador+=1\n",
        "  if(contador==11):\n",
        "    break"
      ],
      "metadata": {
        "colab": {
          "base_uri": "https://localhost:8080/"
        },
        "id": "60RaOqbhC9_s",
        "outputId": "ef30af11-e822-4ebb-940e-80c75fdd7cd2"
      },
      "execution_count": 7,
      "outputs": [
        {
          "output_type": "stream",
          "name": "stdout",
          "text": [
            "0\n",
            "1\n",
            "2\n",
            "3\n",
            "4\n",
            "5\n",
            "6\n",
            "7\n",
            "8\n",
            "9\n",
            "10\n"
          ]
        }
      ]
    },
    {
      "cell_type": "markdown",
      "source": [
        "## For"
      ],
      "metadata": {
        "id": "BxdSUXXA1Xoa"
      }
    },
    {
      "cell_type": "code",
      "source": [
        "num=7\n",
        "primo=True\n",
        "for i in range(2,num):\n",
        "  if(num%i==0):\n",
        "    primo=False\n",
        "    break\n",
        "\n",
        "if (primo==False or num==1):\n",
        "  print(\"Não é primo\")\n",
        "else:\n",
        "  print(\"É primo\")"
      ],
      "metadata": {
        "colab": {
          "base_uri": "https://localhost:8080/"
        },
        "id": "wdZ_LOHraFWT",
        "outputId": "9d0b0d3f-034c-4cc3-c859-f97b5675beab"
      },
      "execution_count": 8,
      "outputs": [
        {
          "output_type": "stream",
          "name": "stdout",
          "text": [
            "É primo\n"
          ]
        }
      ]
    },
    {
      "cell_type": "code",
      "source": [
        "num=10\n",
        "for i in range(2,num):\n",
        "  print(i)"
      ],
      "metadata": {
        "colab": {
          "base_uri": "https://localhost:8080/"
        },
        "id": "Cv2IkrJXpYtm",
        "outputId": "ff0a9d33-45b6-4123-a3e2-505168c03e3b"
      },
      "execution_count": 9,
      "outputs": [
        {
          "output_type": "stream",
          "name": "stdout",
          "text": [
            "2\n",
            "3\n",
            "4\n",
            "5\n",
            "6\n",
            "7\n",
            "8\n",
            "9\n"
          ]
        }
      ]
    },
    {
      "cell_type": "markdown",
      "source": [
        "## Continue\n"
      ],
      "metadata": {
        "id": "kZdIKOzt1MD5"
      }
    },
    {
      "cell_type": "code",
      "source": [
        "for i in range(10):\n",
        "  if(i%2==0):\n",
        "    continue\n",
        "  print(i)"
      ],
      "metadata": {
        "colab": {
          "base_uri": "https://localhost:8080/"
        },
        "id": "q0dEYAlD0vhw",
        "outputId": "a7216731-0bb5-4a43-eea8-92d1a4ebf49c"
      },
      "execution_count": 10,
      "outputs": [
        {
          "output_type": "stream",
          "name": "stdout",
          "text": [
            "1\n",
            "3\n",
            "5\n",
            "7\n",
            "9\n"
          ]
        }
      ]
    },
    {
      "cell_type": "markdown",
      "source": [
        "## Pass\n"
      ],
      "metadata": {
        "id": "4DrvJk7Z1_qu"
      }
    },
    {
      "cell_type": "code",
      "source": [
        "for i in range(10):\n",
        "  pass"
      ],
      "metadata": {
        "id": "Koc9Ec5GOd9J"
      },
      "execution_count": 11,
      "outputs": []
    },
    {
      "cell_type": "markdown",
      "source": [
        "## Listas/Criação e acesso"
      ],
      "metadata": {
        "id": "gocpu6u0OuLB"
      }
    },
    {
      "cell_type": "code",
      "source": [
        "frutas=[\"maça\",\"banana\",\"Laranja\"]\n",
        "print(frutas[0])\n",
        "print(frutas[1])\n",
        "print(frutas[2])"
      ],
      "metadata": {
        "colab": {
          "base_uri": "https://localhost:8080/"
        },
        "id": "q8g3QNXePpUN",
        "outputId": "2555de7e-d7f2-42a0-e5c5-eca1013f46c4"
      },
      "execution_count": 12,
      "outputs": [
        {
          "output_type": "stream",
          "name": "stdout",
          "text": [
            "maça\n",
            "banana\n",
            "Laranja\n"
          ]
        }
      ]
    },
    {
      "cell_type": "code",
      "source": [
        "frutas=[\"maça\",\"banana\",\"Laranja\"]\n",
        "print(frutas[-1])\n",
        "print(frutas[-2])\n",
        "print(frutas[-3])"
      ],
      "metadata": {
        "colab": {
          "base_uri": "https://localhost:8080/"
        },
        "id": "WKiQAqNDQfiC",
        "outputId": "fb71a763-df44-4c40-e21f-8f514084df8f"
      },
      "execution_count": 13,
      "outputs": [
        {
          "output_type": "stream",
          "name": "stdout",
          "text": [
            "Laranja\n",
            "banana\n",
            "maça\n"
          ]
        }
      ]
    },
    {
      "cell_type": "markdown",
      "source": [
        "## Métodos de listas\n",
        "\n",
        "\n",
        "\n",
        "\n",
        "\n"
      ],
      "metadata": {
        "id": "pi3mtCkqrBvs"
      }
    },
    {
      "cell_type": "code",
      "source": [
        "frutas=[\"maça\",\"banana\",\"laranja\"]\n",
        "frutas.append(\"pera\")\n",
        "print(frutas)"
      ],
      "metadata": {
        "id": "Ew6_vu_brEwp",
        "colab": {
          "base_uri": "https://localhost:8080/"
        },
        "outputId": "3d16a717-3c28-42e2-8c75-856df1450f40"
      },
      "execution_count": 14,
      "outputs": [
        {
          "output_type": "stream",
          "name": "stdout",
          "text": [
            "['maça', 'banana', 'laranja', 'pera']\n"
          ]
        }
      ]
    },
    {
      "cell_type": "code",
      "source": [
        "frutas.insert(1,\"uva\")\n",
        "frutas.remove(\"banana\")\n",
        "print(frutas)"
      ],
      "metadata": {
        "id": "2lNWzdCTtGCj",
        "colab": {
          "base_uri": "https://localhost:8080/"
        },
        "outputId": "40c81648-07f0-4646-e2f6-a91176b374bf"
      },
      "execution_count": 15,
      "outputs": [
        {
          "output_type": "stream",
          "name": "stdout",
          "text": [
            "['maça', 'uva', 'laranja', 'pera']\n"
          ]
        }
      ]
    },
    {
      "cell_type": "code",
      "source": [
        "fruta_removida=frutas.pop(2)\n",
        "print(frutas)\n",
        "print(fruta_removida)"
      ],
      "metadata": {
        "id": "OUlZ3UjmHj9K",
        "colab": {
          "base_uri": "https://localhost:8080/"
        },
        "outputId": "0c0b4eab-c531-4b15-c1c3-423dedb67326"
      },
      "execution_count": 16,
      "outputs": [
        {
          "output_type": "stream",
          "name": "stdout",
          "text": [
            "['maça', 'uva', 'pera']\n",
            "laranja\n"
          ]
        }
      ]
    },
    {
      "cell_type": "code",
      "source": [
        "frutas.sort()\n",
        "print(frutas)"
      ],
      "metadata": {
        "colab": {
          "base_uri": "https://localhost:8080/"
        },
        "id": "V2dCA174SfpE",
        "outputId": "4e40a32d-409c-4613-fd25-266aa0133f66"
      },
      "execution_count": 17,
      "outputs": [
        {
          "output_type": "stream",
          "name": "stdout",
          "text": [
            "['maça', 'pera', 'uva']\n"
          ]
        }
      ]
    },
    {
      "cell_type": "code",
      "source": [
        "frutas.reverse()\n",
        "print(frutas)"
      ],
      "metadata": {
        "colab": {
          "base_uri": "https://localhost:8080/"
        },
        "id": "KrZ_RqKeSs5c",
        "outputId": "42044a9b-5b57-4b07-d387-eb3cc79f969e"
      },
      "execution_count": 18,
      "outputs": [
        {
          "output_type": "stream",
          "name": "stdout",
          "text": [
            "['uva', 'pera', 'maça']\n"
          ]
        }
      ]
    },
    {
      "cell_type": "markdown",
      "source": [
        "##Listas de Compreensão\n"
      ],
      "metadata": {
        "id": "0AqmRDwATJHl"
      }
    },
    {
      "cell_type": "code",
      "source": [
        "numeros=[1,2,3,4,5]\n",
        "quadrados=[x**2 for x in numeros if x%2==0]\n",
        "print(quadrados)"
      ],
      "metadata": {
        "colab": {
          "base_uri": "https://localhost:8080/"
        },
        "id": "6mYpjLLETSh9",
        "outputId": "c44acee2-d5a4-4011-a63e-09e50461f7d2"
      },
      "execution_count": 19,
      "outputs": [
        {
          "output_type": "stream",
          "name": "stdout",
          "text": [
            "[4, 16]\n"
          ]
        }
      ]
    },
    {
      "cell_type": "markdown",
      "source": [
        "## Tuplas\n",
        "# Criação e acesso\n"
      ],
      "metadata": {
        "id": "JMiMleB-omZS"
      }
    },
    {
      "cell_type": "code",
      "source": [
        "minha_tupla=(1,3,2,4,2)\n",
        "print(len(minha_tupla))"
      ],
      "metadata": {
        "id": "Cc5Nk46roucl",
        "colab": {
          "base_uri": "https://localhost:8080/"
        },
        "outputId": "9e2c9fe8-14ca-4c37-ad6e-85727c30c9bc"
      },
      "execution_count": 20,
      "outputs": [
        {
          "output_type": "stream",
          "name": "stdout",
          "text": [
            "5\n"
          ]
        }
      ]
    },
    {
      "cell_type": "code",
      "source": [
        "print(minha_tupla.index(4))"
      ],
      "metadata": {
        "colab": {
          "base_uri": "https://localhost:8080/"
        },
        "id": "5wSLYo_rDymB",
        "outputId": "be1f3b62-7a29-4e7e-a310-d363c8087e50"
      },
      "execution_count": 21,
      "outputs": [
        {
          "output_type": "stream",
          "name": "stdout",
          "text": [
            "3\n"
          ]
        }
      ]
    },
    {
      "cell_type": "code",
      "source": [
        "print(minha_tupla.count(3))"
      ],
      "metadata": {
        "colab": {
          "base_uri": "https://localhost:8080/"
        },
        "id": "W6j9LWVyD8Mj",
        "outputId": "109651e1-5d1c-43da-f240-96348309149a"
      },
      "execution_count": 22,
      "outputs": [
        {
          "output_type": "stream",
          "name": "stdout",
          "text": [
            "1\n"
          ]
        }
      ]
    },
    {
      "cell_type": "markdown",
      "source": [
        "## Dicionários\n",
        "# Criação/Acesso/Métodos\n"
      ],
      "metadata": {
        "id": "BuRjpQxnDKkG"
      }
    },
    {
      "cell_type": "code",
      "source": [
        "pessoa={\"nome\":\"José\",\"idade\":25,\"cidade\":\"Madri\"}\n",
        "print(pessoa[\"nome\"])\n",
        "print(pessoa[\"idade\"])\n",
        "print(pessoa[\"cidade\"])"
      ],
      "metadata": {
        "colab": {
          "base_uri": "https://localhost:8080/"
        },
        "id": "ejVBUaWiDZi9",
        "outputId": "06ec457c-58bb-495d-8856-25abbea734fb"
      },
      "execution_count": 23,
      "outputs": [
        {
          "output_type": "stream",
          "name": "stdout",
          "text": [
            "José\n",
            "25\n",
            "Madri\n"
          ]
        }
      ]
    },
    {
      "cell_type": "code",
      "source": [
        "print(pessoa.keys())\n",
        "print(pessoa.values())\n",
        "print(pessoa.items())"
      ],
      "metadata": {
        "colab": {
          "base_uri": "https://localhost:8080/"
        },
        "id": "IU6vU-prE0Y5",
        "outputId": "d966cdf6-2fda-41c9-8b90-bf3bed8d050f"
      },
      "execution_count": 24,
      "outputs": [
        {
          "output_type": "stream",
          "name": "stdout",
          "text": [
            "dict_keys(['nome', 'idade', 'cidade'])\n",
            "dict_values(['José', 25, 'Madri'])\n",
            "dict_items([('nome', 'José'), ('idade', 25), ('cidade', 'Madri')])\n"
          ]
        }
      ]
    },
    {
      "cell_type": "code",
      "source": [
        "pessoa.update({\"profissão\":\"Engenheiro\"})\n",
        "print(pessoa)"
      ],
      "metadata": {
        "colab": {
          "base_uri": "https://localhost:8080/"
        },
        "id": "VMwMj4xIOIW9",
        "outputId": "e39957bd-8e6f-41c3-c074-d2d20e902a62"
      },
      "execution_count": 25,
      "outputs": [
        {
          "output_type": "stream",
          "name": "stdout",
          "text": [
            "{'nome': 'José', 'idade': 25, 'cidade': 'Madri', 'profissão': 'Engenheiro'}\n"
          ]
        }
      ]
    },
    {
      "cell_type": "markdown",
      "source": [
        "## Conjuntos\n",
        "\n"
      ],
      "metadata": {
        "id": "3smug4WQOx_D"
      }
    },
    {
      "cell_type": "code",
      "source": [
        "frutas={\"maça\",\"banana\",\"laranja\"}\n",
        "numeros=set([1,2,3,4,5])"
      ],
      "metadata": {
        "id": "FVRx-BMaO41b"
      },
      "execution_count": 26,
      "outputs": []
    },
    {
      "cell_type": "code",
      "source": [
        "A={1,2,3}\n",
        "B={3,4,5}"
      ],
      "metadata": {
        "id": "cUbPkvXTTwiZ"
      },
      "execution_count": 27,
      "outputs": []
    },
    {
      "cell_type": "code",
      "source": [
        "uniao=A|B\n",
        "print(uniao)"
      ],
      "metadata": {
        "colab": {
          "base_uri": "https://localhost:8080/"
        },
        "id": "AjSInLMtT4a8",
        "outputId": "e0f21034-d4f7-4253-e299-244a52540541"
      },
      "execution_count": 28,
      "outputs": [
        {
          "output_type": "stream",
          "name": "stdout",
          "text": [
            "{1, 2, 3, 4, 5}\n"
          ]
        }
      ]
    },
    {
      "cell_type": "code",
      "source": [
        "intersecao=A&B\n",
        "print(intersecao)"
      ],
      "metadata": {
        "colab": {
          "base_uri": "https://localhost:8080/"
        },
        "id": "XqW_moguX2Y_",
        "outputId": "6d9797af-aa49-4f12-9a6d-acb386d72449"
      },
      "execution_count": 29,
      "outputs": [
        {
          "output_type": "stream",
          "name": "stdout",
          "text": [
            "{3}\n"
          ]
        }
      ]
    },
    {
      "cell_type": "code",
      "source": [
        "diferenca=A-B\n",
        "print(diferenca)"
      ],
      "metadata": {
        "colab": {
          "base_uri": "https://localhost:8080/"
        },
        "id": "ctil3zPtX_hc",
        "outputId": "1360004c-8622-47a0-dcee-24aaf179ad1c"
      },
      "execution_count": 30,
      "outputs": [
        {
          "output_type": "stream",
          "name": "stdout",
          "text": [
            "{1, 2}\n"
          ]
        }
      ]
    },
    {
      "cell_type": "code",
      "source": [
        "diferenca_simetrica=A^B\n",
        "print(diferenca_simetrica)"
      ],
      "metadata": {
        "colab": {
          "base_uri": "https://localhost:8080/"
        },
        "id": "5a79dsYaYmUZ",
        "outputId": "0b17c3f8-630e-4fc5-cfe6-a6b303f062c6"
      },
      "execution_count": 31,
      "outputs": [
        {
          "output_type": "stream",
          "name": "stdout",
          "text": [
            "{1, 2, 4, 5}\n"
          ]
        }
      ]
    },
    {
      "cell_type": "markdown",
      "source": [
        "## Métodos\n"
      ],
      "metadata": {
        "id": "on49RJakZjMv"
      }
    },
    {
      "cell_type": "code",
      "source": [
        "frutas.add(\"pera\")\n",
        "print(frutas)"
      ],
      "metadata": {
        "colab": {
          "base_uri": "https://localhost:8080/"
        },
        "id": "F0ht27zkZrwZ",
        "outputId": "6ae462e9-aa6b-40c7-c80b-ad0307eff476"
      },
      "execution_count": 32,
      "outputs": [
        {
          "output_type": "stream",
          "name": "stdout",
          "text": [
            "{'banana', 'laranja', 'pera', 'maça'}\n"
          ]
        }
      ]
    },
    {
      "cell_type": "code",
      "source": [
        "frutas.remove(\"banana\")\n",
        "print(frutas)"
      ],
      "metadata": {
        "colab": {
          "base_uri": "https://localhost:8080/"
        },
        "id": "jGtOExhCZ4Nn",
        "outputId": "a54df50c-e42a-40cc-99bc-ed7052c8208e"
      },
      "execution_count": 33,
      "outputs": [
        {
          "output_type": "stream",
          "name": "stdout",
          "text": [
            "{'laranja', 'pera', 'maça'}\n"
          ]
        }
      ]
    },
    {
      "cell_type": "code",
      "source": [
        "frutas.discard(\"uva\")\n",
        "print(frutas)"
      ],
      "metadata": {
        "colab": {
          "base_uri": "https://localhost:8080/"
        },
        "id": "ChtLdsHEaApR",
        "outputId": "1342be0b-2ac6-44e4-cae6-4d642e8a3072"
      },
      "execution_count": 34,
      "outputs": [
        {
          "output_type": "stream",
          "name": "stdout",
          "text": [
            "{'laranja', 'pera', 'maça'}\n"
          ]
        }
      ]
    },
    {
      "cell_type": "code",
      "source": [
        "frutas.clear()\n",
        "print(frutas)"
      ],
      "metadata": {
        "colab": {
          "base_uri": "https://localhost:8080/"
        },
        "id": "zV71rwhmaqWt",
        "outputId": "7faac834-0a4a-4d79-c589-ad50e15cb294"
      },
      "execution_count": 35,
      "outputs": [
        {
          "output_type": "stream",
          "name": "stdout",
          "text": [
            "set()\n"
          ]
        }
      ]
    },
    {
      "cell_type": "markdown",
      "source": [
        "## Funções\n",
        "#Definição e chamada de funções\n"
      ],
      "metadata": {
        "id": "Y41PpNFSz1ZU"
      }
    },
    {
      "cell_type": "code",
      "source": [
        "def saudacao():\n",
        "  print(\"Olá mundo!!!\")\n",
        "\n",
        "saudacao()\n"
      ],
      "metadata": {
        "colab": {
          "base_uri": "https://localhost:8080/"
        },
        "id": "FIiNQ6w40Czc",
        "outputId": "8b325216-5358-4990-d431-093345d03713"
      },
      "execution_count": 36,
      "outputs": [
        {
          "output_type": "stream",
          "name": "stdout",
          "text": [
            "Olá mundo!!!\n"
          ]
        }
      ]
    },
    {
      "cell_type": "markdown",
      "source": [
        "##Parâmetros e argumentos\n",
        "\n"
      ],
      "metadata": {
        "id": "NxIGMAL-cwgu"
      }
    },
    {
      "cell_type": "code",
      "source": [
        "def saudacao(nome):\n",
        "  print(f\"Olá, {nome}!!!\")\n",
        "\n",
        "saudacao(\"João\")\n",
        "saudacao(\"Maria\")"
      ],
      "metadata": {
        "colab": {
          "base_uri": "https://localhost:8080/"
        },
        "id": "MTty-qICc25B",
        "outputId": "114714bb-d1e2-4afc-e6bd-cf7d9ba77eb6"
      },
      "execution_count": 37,
      "outputs": [
        {
          "output_type": "stream",
          "name": "stdout",
          "text": [
            "Olá, João!!!\n",
            "Olá, Maria!!!\n"
          ]
        }
      ]
    },
    {
      "cell_type": "markdown",
      "source": [
        "##Valores de retorno"
      ],
      "metadata": {
        "id": "fXL5N9tseGZf"
      }
    },
    {
      "cell_type": "code",
      "source": [
        "def soma(a,b):\n",
        "  return a+b"
      ],
      "metadata": {
        "id": "_L3qUB_OeO1z"
      },
      "execution_count": 38,
      "outputs": []
    },
    {
      "cell_type": "code",
      "source": [
        "print(soma(2.5,4.3))"
      ],
      "metadata": {
        "colab": {
          "base_uri": "https://localhost:8080/"
        },
        "id": "jWtVhYDF8XN6",
        "outputId": "d41ee393-bafa-4355-9663-f65fcffb5604"
      },
      "execution_count": 39,
      "outputs": [
        {
          "output_type": "stream",
          "name": "stdout",
          "text": [
            "6.8\n"
          ]
        }
      ]
    },
    {
      "cell_type": "markdown",
      "source": [
        "## Funções anônimas\n",
        "\n"
      ],
      "metadata": {
        "id": "ImNSIEJ98qH1"
      }
    },
    {
      "cell_type": "code",
      "source": [
        "quadrados=lambda x:x**2"
      ],
      "metadata": {
        "id": "PUsY7QVn8yuL"
      },
      "execution_count": 40,
      "outputs": []
    },
    {
      "cell_type": "code",
      "source": [
        "print(quadrados(5))"
      ],
      "metadata": {
        "colab": {
          "base_uri": "https://localhost:8080/"
        },
        "id": "lNmSUZtV87-2",
        "outputId": "58d4a395-ebcc-422d-aace-da64d5e68cf8"
      },
      "execution_count": 41,
      "outputs": [
        {
          "output_type": "stream",
          "name": "stdout",
          "text": [
            "25\n"
          ]
        }
      ]
    },
    {
      "cell_type": "markdown",
      "source": [
        "## Erros comuns"
      ],
      "metadata": {
        "id": "Pm_f5YFnO1J1"
      }
    },
    {
      "cell_type": "markdown",
      "source": [
        "Erro de sintaxe (sintaxError)"
      ],
      "metadata": {
        "id": "0d2cWjrAO63p"
      }
    },
    {
      "cell_type": "code",
      "source": [
        "def minha_funcao(): #ocorre quando faltam os dois pontos\n",
        "  print(\"Olá\")"
      ],
      "metadata": {
        "id": "WL_SPD11PBLE"
      },
      "execution_count": 50,
      "outputs": []
    },
    {
      "cell_type": "markdown",
      "source": [
        " Erro de nome (nameError)"
      ],
      "metadata": {
        "id": "RJ0EXPeHQMey"
      }
    },
    {
      "cell_type": "code",
      "source": [
        "print(variavel_nao_definida) #Ocorre quando se faz referência a uma variável ou função que não foi definida"
      ],
      "metadata": {
        "colab": {
          "base_uri": "https://localhost:8080/",
          "height": 144
        },
        "id": "ayBlQQr0RPOQ",
        "outputId": "29ee6433-a872-4fdd-fe44-b12ee9f787c8"
      },
      "execution_count": 43,
      "outputs": [
        {
          "output_type": "error",
          "ename": "NameError",
          "evalue": "name 'variavel_nao_definida' is not defined",
          "traceback": [
            "\u001b[0;31m---------------------------------------------------------------------------\u001b[0m",
            "\u001b[0;31mNameError\u001b[0m                                 Traceback (most recent call last)",
            "\u001b[0;32m<ipython-input-43-44cb84a3df77>\u001b[0m in \u001b[0;36m<cell line: 1>\u001b[0;34m()\u001b[0m\n\u001b[0;32m----> 1\u001b[0;31m \u001b[0mprint\u001b[0m\u001b[0;34m(\u001b[0m\u001b[0mvariavel_nao_definida\u001b[0m\u001b[0;34m)\u001b[0m \u001b[0;31m#Ocorre quando se faz referência a uma variável ou função que não foi definida\u001b[0m\u001b[0;34m\u001b[0m\u001b[0;34m\u001b[0m\u001b[0m\n\u001b[0m",
            "\u001b[0;31mNameError\u001b[0m: name 'variavel_nao_definida' is not defined"
          ]
        }
      ]
    },
    {
      "cell_type": "markdown",
      "source": [
        "Erro de tipo (typeError)"
      ],
      "metadata": {
        "id": "j2GDJKPKR33y"
      }
    },
    {
      "cell_type": "code",
      "source": [
        "resultado=5+\"10\"  #Ocorre quando se realiza uma operação com tipos de dados incompatíveis, como tentar somar um número a uma string\n",
        "print(resultado)"
      ],
      "metadata": {
        "colab": {
          "base_uri": "https://localhost:8080/",
          "height": 162
        },
        "id": "_mpbQt7gSPsk",
        "outputId": "e397826c-ad48-48c7-e78b-e437798ee1cf"
      },
      "execution_count": 44,
      "outputs": [
        {
          "output_type": "error",
          "ename": "TypeError",
          "evalue": "unsupported operand type(s) for +: 'int' and 'str'",
          "traceback": [
            "\u001b[0;31m---------------------------------------------------------------------------\u001b[0m",
            "\u001b[0;31mTypeError\u001b[0m                                 Traceback (most recent call last)",
            "\u001b[0;32m<ipython-input-44-62c90932cc8d>\u001b[0m in \u001b[0;36m<cell line: 1>\u001b[0;34m()\u001b[0m\n\u001b[0;32m----> 1\u001b[0;31m \u001b[0mresultado\u001b[0m\u001b[0;34m=\u001b[0m\u001b[0;36m5\u001b[0m\u001b[0;34m+\u001b[0m\u001b[0;34m\"10\"\u001b[0m  \u001b[0;31m#Ocorre quando se realiza uma operação com tipos de dados incompatíveis, como tentar somar um número a uma string\u001b[0m\u001b[0;34m\u001b[0m\u001b[0;34m\u001b[0m\u001b[0m\n\u001b[0m\u001b[1;32m      2\u001b[0m \u001b[0mprint\u001b[0m\u001b[0;34m(\u001b[0m\u001b[0mresultado\u001b[0m\u001b[0;34m)\u001b[0m\u001b[0;34m\u001b[0m\u001b[0;34m\u001b[0m\u001b[0m\n",
            "\u001b[0;31mTypeError\u001b[0m: unsupported operand type(s) for +: 'int' and 'str'"
          ]
        }
      ]
    },
    {
      "cell_type": "markdown",
      "source": [
        "Erro de índice (indexError)"
      ],
      "metadata": {
        "id": "1bY6ZZzwT0gj"
      }
    },
    {
      "cell_type": "code",
      "source": [
        "lista=[1,2,3,4]\n",
        "print(lista[4])  #o índice está fora do intervalo"
      ],
      "metadata": {
        "colab": {
          "base_uri": "https://localhost:8080/",
          "height": 162
        },
        "id": "iqVzWkZnUH0W",
        "outputId": "450c31c0-d7f8-44f4-ea85-3398e4b372a9"
      },
      "execution_count": 45,
      "outputs": [
        {
          "output_type": "error",
          "ename": "IndexError",
          "evalue": "list index out of range",
          "traceback": [
            "\u001b[0;31m---------------------------------------------------------------------------\u001b[0m",
            "\u001b[0;31mIndexError\u001b[0m                                Traceback (most recent call last)",
            "\u001b[0;32m<ipython-input-45-826110b94b65>\u001b[0m in \u001b[0;36m<cell line: 2>\u001b[0;34m()\u001b[0m\n\u001b[1;32m      1\u001b[0m \u001b[0mlista\u001b[0m\u001b[0;34m=\u001b[0m\u001b[0;34m[\u001b[0m\u001b[0;36m1\u001b[0m\u001b[0;34m,\u001b[0m\u001b[0;36m2\u001b[0m\u001b[0;34m,\u001b[0m\u001b[0;36m3\u001b[0m\u001b[0;34m,\u001b[0m\u001b[0;36m4\u001b[0m\u001b[0;34m]\u001b[0m\u001b[0;34m\u001b[0m\u001b[0;34m\u001b[0m\u001b[0m\n\u001b[0;32m----> 2\u001b[0;31m \u001b[0mprint\u001b[0m\u001b[0;34m(\u001b[0m\u001b[0mlista\u001b[0m\u001b[0;34m[\u001b[0m\u001b[0;36m4\u001b[0m\u001b[0;34m]\u001b[0m\u001b[0;34m)\u001b[0m  \u001b[0;31m#o índice está fora do intervalo\u001b[0m\u001b[0;34m\u001b[0m\u001b[0;34m\u001b[0m\u001b[0m\n\u001b[0m",
            "\u001b[0;31mIndexError\u001b[0m: list index out of range"
          ]
        }
      ]
    },
    {
      "cell_type": "markdown",
      "source": [
        "## Manejo de excessões\n"
      ],
      "metadata": {
        "id": "M5syS7CMU0As"
      }
    },
    {
      "cell_type": "markdown",
      "source": [
        "try"
      ],
      "metadata": {
        "id": "UUJl38nzCF8h"
      }
    },
    {
      "cell_type": "code",
      "source": [
        "try:\n",
        "  #Código que pode gerar uma excessão\n",
        "  resultado=10/0\n",
        "  print(resultado)\n",
        "except ZeroDivisionError:\n",
        "    print(\"Erro: divisão por zero.\")"
      ],
      "metadata": {
        "id": "_TrOJHYZU4XA",
        "colab": {
          "base_uri": "https://localhost:8080/"
        },
        "outputId": "cd14476f-f3d8-4934-ce5f-95ebb1f7e144"
      },
      "execution_count": 46,
      "outputs": [
        {
          "output_type": "stream",
          "name": "stdout",
          "text": [
            "Erro: divisão por zero.\n"
          ]
        }
      ]
    },
    {
      "cell_type": "markdown",
      "source": [
        "except"
      ],
      "metadata": {
        "id": "KC3P2u-kGwbN"
      }
    },
    {
      "cell_type": "code",
      "source": [
        "try:\n",
        "  resultado=10/0\n",
        "  print(resultado)\n",
        "except ZeroDivisionError:\n",
        "  print(\"Erro: divisão por zero\")\n",
        "except ValueError:\n",
        "  print(\"Erro: valor inválido\")\n",
        "\n"
      ],
      "metadata": {
        "colab": {
          "base_uri": "https://localhost:8080/"
        },
        "id": "IJvusVHKG0vK",
        "outputId": "cc2dfef5-4ff2-47f7-8d76-d675467745c3"
      },
      "execution_count": 51,
      "outputs": [
        {
          "output_type": "stream",
          "name": "stdout",
          "text": [
            "Erro: divisão por zero\n"
          ]
        }
      ]
    },
    {
      "cell_type": "markdown",
      "source": [
        "# Entradas e saídas"
      ],
      "metadata": {
        "id": "Xb_oYn5y8sNb"
      }
    },
    {
      "cell_type": "code",
      "source": [
        "nome=input('Digite seu nome: ')\n",
        "idade=int(input('Digite sua idade: '))\n",
        "print(f'Olá, {nome}! Você tem {idade} anos.')\n"
      ],
      "metadata": {
        "id": "yiCc994u8xer"
      },
      "execution_count": null,
      "outputs": []
    },
    {
      "cell_type": "markdown",
      "source": [
        "#Saída de dados*"
      ],
      "metadata": {
        "id": "9anyzwFm-YYA"
      }
    },
    {
      "cell_type": "code",
      "source": [
        "nome=\"Juan\"\n",
        "idade=25\n",
        "print(\"Olá, meu nome é {} e tenho {} anos.\".format(nome,idade))\n"
      ],
      "metadata": {
        "colab": {
          "base_uri": "https://localhost:8080/"
        },
        "id": "JhlYq9dv-eYm",
        "outputId": "5fdd5291-6872-408e-e6b2-6fa2600fa586"
      },
      "execution_count": 56,
      "outputs": [
        {
          "output_type": "stream",
          "name": "stdout",
          "text": [
            "Olá, meu nome é Juan e tenho 25 anos.\n"
          ]
        }
      ]
    }
  ]
}