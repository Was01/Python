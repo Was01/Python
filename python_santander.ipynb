{
  "nbformat": 4,
  "nbformat_minor": 0,
  "metadata": {
    "colab": {
      "provenance": [],
      "authorship_tag": "ABX9TyNQBTWLh+pw1xTDMKZ+yqHF",
      "include_colab_link": true
    },
    "kernelspec": {
      "name": "python3",
      "display_name": "Python 3"
    },
    "language_info": {
      "name": "python"
    }
  },
  "cells": [
    {
      "cell_type": "markdown",
      "metadata": {
        "id": "view-in-github",
        "colab_type": "text"
      },
      "source": [
        "<a href=\"https://colab.research.google.com/github/Was01/Python/blob/main/python_santander.ipynb\" target=\"_parent\"><img src=\"https://colab.research.google.com/assets/colab-badge.svg\" alt=\"Open In Colab\"/></a>"
      ]
    },
    {
      "cell_type": "code",
      "execution_count": null,
      "metadata": {
        "colab": {
          "base_uri": "https://localhost:8080/"
        },
        "id": "kcsJWKeK3NMh",
        "outputId": "75c13fa1-a375-4b44-92bb-ba1f883bfb13"
      },
      "outputs": [
        {
          "output_type": "stream",
          "name": "stdout",
          "text": [
            "Olá mundo!!!\n"
          ]
        }
      ],
      "source": [
        "print(\"Olá mundo!!!\")"
      ]
    },
    {
      "cell_type": "markdown",
      "source": [
        "## if/else/elif"
      ],
      "metadata": {
        "id": "TNbNfwvR1yRN"
      }
    },
    {
      "cell_type": "code",
      "source": [
        "nota=75\n",
        "if nota>=90:\n",
        "  print(\"Excelente\")\n",
        "elif nota>=80:\n",
        "  print(\"Muito bom\")\n",
        "elif nota>=70:\n",
        "  print(\"Bom\")\n",
        "else:\n",
        "  print(\"Precisa melhorar\")"
      ],
      "metadata": {
        "id": "738Xvw1e3wer",
        "colab": {
          "base_uri": "https://localhost:8080/"
        },
        "outputId": "659cc22c-797f-4e29-825c-76e445a503b0"
      },
      "execution_count": null,
      "outputs": [
        {
          "output_type": "stream",
          "name": "stdout",
          "text": [
            "Bom\n"
          ]
        }
      ]
    },
    {
      "cell_type": "markdown",
      "source": [
        "## Listas"
      ],
      "metadata": {
        "id": "0ngLL-ro1vEV"
      }
    },
    {
      "cell_type": "code",
      "source": [
        "frutas=['maça','banana','laranja','morango']\n",
        "for fruta in frutas:\n",
        "  print(fruta)"
      ],
      "metadata": {
        "id": "5tyNNAX68xH9",
        "colab": {
          "base_uri": "https://localhost:8080/"
        },
        "outputId": "24d81ae0-c2cc-4f2d-e628-93f51b4d65c8"
      },
      "execution_count": null,
      "outputs": [
        {
          "output_type": "stream",
          "name": "stdout",
          "text": [
            "maça\n",
            "banana\n",
            "laranja\n",
            "morango\n"
          ]
        }
      ]
    },
    {
      "cell_type": "markdown",
      "source": [
        "## While"
      ],
      "metadata": {
        "id": "QuhYtdCQ1qsY"
      }
    },
    {
      "cell_type": "code",
      "source": [
        "contador=0\n",
        "while contador<=5:\n",
        "  print(contador)\n",
        "  contador+=1"
      ],
      "metadata": {
        "id": "3EawhipQHzW6",
        "colab": {
          "base_uri": "https://localhost:8080/"
        },
        "outputId": "d8bb9e4f-26fa-470e-c5b2-5c298070ad20"
      },
      "execution_count": null,
      "outputs": [
        {
          "output_type": "stream",
          "name": "stdout",
          "text": [
            "0\n",
            "1\n",
            "2\n",
            "3\n",
            "4\n",
            "5\n"
          ]
        }
      ]
    },
    {
      "cell_type": "code",
      "source": [
        "contador=0\n",
        "while True:\n",
        "  print (contador)\n",
        "  contador+=1\n",
        "  if(contador==11):\n",
        "    break"
      ],
      "metadata": {
        "colab": {
          "base_uri": "https://localhost:8080/"
        },
        "id": "60RaOqbhC9_s",
        "outputId": "3392e3e8-6e7b-4927-f26a-b08d648313eb"
      },
      "execution_count": null,
      "outputs": [
        {
          "output_type": "stream",
          "name": "stdout",
          "text": [
            "0\n",
            "1\n",
            "2\n",
            "3\n",
            "4\n",
            "5\n",
            "6\n",
            "7\n",
            "8\n",
            "9\n",
            "10\n"
          ]
        }
      ]
    },
    {
      "cell_type": "markdown",
      "source": [
        "## For"
      ],
      "metadata": {
        "id": "BxdSUXXA1Xoa"
      }
    },
    {
      "cell_type": "code",
      "source": [
        "num=7\n",
        "primo=True\n",
        "for i in range(2,num):\n",
        "  if(num%i==0):\n",
        "    primo=False\n",
        "    break\n",
        "\n",
        "if (primo==False or num==1):\n",
        "  print(\"Não é primo\")\n",
        "else:\n",
        "  print(\"É primo\")"
      ],
      "metadata": {
        "colab": {
          "base_uri": "https://localhost:8080/"
        },
        "id": "wdZ_LOHraFWT",
        "outputId": "d8d8a101-4119-4cba-c309-f3eb857dc458"
      },
      "execution_count": null,
      "outputs": [
        {
          "output_type": "stream",
          "name": "stdout",
          "text": [
            "É primo\n"
          ]
        }
      ]
    },
    {
      "cell_type": "code",
      "source": [
        "num=10\n",
        "for i in range(2,num):\n",
        "  print(i)"
      ],
      "metadata": {
        "colab": {
          "base_uri": "https://localhost:8080/"
        },
        "id": "Cv2IkrJXpYtm",
        "outputId": "a56ea704-b648-44ea-87f6-170bb91fa892"
      },
      "execution_count": null,
      "outputs": [
        {
          "output_type": "stream",
          "name": "stdout",
          "text": [
            "2\n",
            "3\n",
            "4\n",
            "5\n",
            "6\n",
            "7\n",
            "8\n",
            "9\n"
          ]
        }
      ]
    },
    {
      "cell_type": "markdown",
      "source": [
        "## Continue\n"
      ],
      "metadata": {
        "id": "kZdIKOzt1MD5"
      }
    },
    {
      "cell_type": "code",
      "source": [
        "for i in range(10):\n",
        "  if(i%2==0):\n",
        "    continue\n",
        "  print(i)"
      ],
      "metadata": {
        "colab": {
          "base_uri": "https://localhost:8080/"
        },
        "id": "q0dEYAlD0vhw",
        "outputId": "13fe895e-f38e-432e-99c8-e5bff6ba0864"
      },
      "execution_count": null,
      "outputs": [
        {
          "output_type": "stream",
          "name": "stdout",
          "text": [
            "1\n",
            "3\n",
            "5\n",
            "7\n",
            "9\n"
          ]
        }
      ]
    },
    {
      "cell_type": "markdown",
      "source": [
        "## Pass\n"
      ],
      "metadata": {
        "id": "4DrvJk7Z1_qu"
      }
    },
    {
      "cell_type": "code",
      "source": [
        "for i in range(10):\n",
        "  pass"
      ],
      "metadata": {
        "id": "Koc9Ec5GOd9J"
      },
      "execution_count": null,
      "outputs": []
    },
    {
      "cell_type": "markdown",
      "source": [
        "## Listas/Criação e acesso"
      ],
      "metadata": {
        "id": "gocpu6u0OuLB"
      }
    },
    {
      "cell_type": "code",
      "source": [
        "frutas=[\"maça\",\"banana\",\"Laranja\"]\n",
        "print(frutas[0])\n",
        "print(frutas[1])\n",
        "print(frutas[2])"
      ],
      "metadata": {
        "colab": {
          "base_uri": "https://localhost:8080/"
        },
        "id": "q8g3QNXePpUN",
        "outputId": "22ffada3-177c-4fdb-fbe9-832c646105b1"
      },
      "execution_count": null,
      "outputs": [
        {
          "output_type": "stream",
          "name": "stdout",
          "text": [
            "maça\n",
            "banana\n",
            "Laranja\n"
          ]
        }
      ]
    },
    {
      "cell_type": "code",
      "source": [
        "frutas=[\"maça\",\"banana\",\"Laranja\"]\n",
        "print(frutas[-1])\n",
        "print(frutas[-2])\n",
        "print(frutas[-3])"
      ],
      "metadata": {
        "colab": {
          "base_uri": "https://localhost:8080/"
        },
        "id": "WKiQAqNDQfiC",
        "outputId": "7746377c-4050-4b7b-921b-6f35ec4544e9"
      },
      "execution_count": null,
      "outputs": [
        {
          "output_type": "stream",
          "name": "stdout",
          "text": [
            "Laranja\n",
            "banana\n",
            "maça\n"
          ]
        }
      ]
    },
    {
      "cell_type": "markdown",
      "source": [
        "## Métodos de listas\n",
        "\n",
        "\n",
        "\n",
        "\n",
        "\n"
      ],
      "metadata": {
        "id": "pi3mtCkqrBvs"
      }
    },
    {
      "cell_type": "code",
      "source": [
        "frutas=[\"maça\",\"banana\",\"laranja\"]\n",
        "frutas.append(\"pera\")\n",
        "print(frutas)"
      ],
      "metadata": {
        "id": "Ew6_vu_brEwp",
        "colab": {
          "base_uri": "https://localhost:8080/"
        },
        "outputId": "9debfd8e-a5cd-46eb-c478-95a0251a859c"
      },
      "execution_count": null,
      "outputs": [
        {
          "output_type": "stream",
          "name": "stdout",
          "text": [
            "['maça', 'banana', 'laranja', 'pera']\n"
          ]
        }
      ]
    },
    {
      "cell_type": "code",
      "source": [
        "frutas.insert(1,\"uva\")\n",
        "frutas.remove(\"banana\")\n",
        "print(frutas)"
      ],
      "metadata": {
        "id": "2lNWzdCTtGCj",
        "colab": {
          "base_uri": "https://localhost:8080/"
        },
        "outputId": "e8f63417-6a68-4b75-e2f0-c1402e8ee448"
      },
      "execution_count": null,
      "outputs": [
        {
          "output_type": "stream",
          "name": "stdout",
          "text": [
            "['maça', 'uva', 'laranja', 'pera']\n"
          ]
        }
      ]
    },
    {
      "cell_type": "code",
      "source": [
        "fruta_removida=frutas.pop(2)\n",
        "print(frutas)\n",
        "print(fruta_removida)"
      ],
      "metadata": {
        "id": "OUlZ3UjmHj9K",
        "colab": {
          "base_uri": "https://localhost:8080/"
        },
        "outputId": "a1b7e981-e274-45ef-ecd1-af6c534cca58"
      },
      "execution_count": null,
      "outputs": [
        {
          "output_type": "stream",
          "name": "stdout",
          "text": [
            "['maça', 'uva', 'pera']\n",
            "laranja\n"
          ]
        }
      ]
    },
    {
      "cell_type": "code",
      "source": [
        "frutas.sort()\n",
        "print(frutas)"
      ],
      "metadata": {
        "colab": {
          "base_uri": "https://localhost:8080/"
        },
        "id": "V2dCA174SfpE",
        "outputId": "b615c8a8-6849-471f-ccaa-66b9be27dcc9"
      },
      "execution_count": null,
      "outputs": [
        {
          "output_type": "stream",
          "name": "stdout",
          "text": [
            "['maça', 'pera', 'uva']\n"
          ]
        }
      ]
    },
    {
      "cell_type": "code",
      "source": [
        "frutas.reverse()\n",
        "print(frutas)"
      ],
      "metadata": {
        "colab": {
          "base_uri": "https://localhost:8080/"
        },
        "id": "KrZ_RqKeSs5c",
        "outputId": "94d08d68-ebef-4fc9-d3b6-dd37f7858545"
      },
      "execution_count": null,
      "outputs": [
        {
          "output_type": "stream",
          "name": "stdout",
          "text": [
            "['uva', 'pera', 'maça']\n"
          ]
        }
      ]
    },
    {
      "cell_type": "markdown",
      "source": [
        "##Listas de Compreensão\n"
      ],
      "metadata": {
        "id": "0AqmRDwATJHl"
      }
    },
    {
      "cell_type": "code",
      "source": [
        "numeros=[1,2,3,4,5]\n",
        "quadrados=[x**2 for x in numeros if x%2==0]\n",
        "print(quadrados)"
      ],
      "metadata": {
        "colab": {
          "base_uri": "https://localhost:8080/"
        },
        "id": "6mYpjLLETSh9",
        "outputId": "bcffa6ac-bea1-48cf-cdd7-110becbf2716"
      },
      "execution_count": null,
      "outputs": [
        {
          "output_type": "stream",
          "name": "stdout",
          "text": [
            "[4, 16]\n"
          ]
        }
      ]
    },
    {
      "cell_type": "markdown",
      "source": [
        "## Tuplas\n",
        "# Criação e acesso\n"
      ],
      "metadata": {
        "id": "JMiMleB-omZS"
      }
    },
    {
      "cell_type": "code",
      "source": [
        "minha_tupla=(1,3,2,4,2)\n",
        "print(len(minha_tupla))"
      ],
      "metadata": {
        "id": "Cc5Nk46roucl",
        "colab": {
          "base_uri": "https://localhost:8080/"
        },
        "outputId": "bcdc1f3c-4f27-479e-eb4b-93e4cb3dc639"
      },
      "execution_count": null,
      "outputs": [
        {
          "output_type": "stream",
          "name": "stdout",
          "text": [
            "5\n"
          ]
        }
      ]
    },
    {
      "cell_type": "code",
      "source": [
        "print(minha_tupla.index(4))"
      ],
      "metadata": {
        "colab": {
          "base_uri": "https://localhost:8080/"
        },
        "id": "5wSLYo_rDymB",
        "outputId": "1115010e-a844-4c7b-cc15-43accc04503b"
      },
      "execution_count": null,
      "outputs": [
        {
          "output_type": "stream",
          "name": "stdout",
          "text": [
            "3\n"
          ]
        }
      ]
    },
    {
      "cell_type": "code",
      "source": [
        "print(minha_tupla.count(3))"
      ],
      "metadata": {
        "colab": {
          "base_uri": "https://localhost:8080/"
        },
        "id": "W6j9LWVyD8Mj",
        "outputId": "17e9c690-ebe5-4e1e-95e0-def27b476427"
      },
      "execution_count": null,
      "outputs": [
        {
          "output_type": "stream",
          "name": "stdout",
          "text": [
            "1\n"
          ]
        }
      ]
    },
    {
      "cell_type": "markdown",
      "source": [
        "## Dicionários\n",
        "# Criação/Acesso/Métodos\n"
      ],
      "metadata": {
        "id": "BuRjpQxnDKkG"
      }
    },
    {
      "cell_type": "code",
      "source": [
        "pessoa={\"nome\":\"José\",\"idade\":25,\"cidade\":\"Madri\"}\n",
        "print(pessoa[\"nome\"])\n",
        "print(pessoa[\"idade\"])\n",
        "print(pessoa[\"cidade\"])"
      ],
      "metadata": {
        "colab": {
          "base_uri": "https://localhost:8080/"
        },
        "id": "ejVBUaWiDZi9",
        "outputId": "39187f83-3fe7-41c4-a422-5180173da609"
      },
      "execution_count": null,
      "outputs": [
        {
          "output_type": "stream",
          "name": "stdout",
          "text": [
            "José\n",
            "25\n",
            "Madri\n"
          ]
        }
      ]
    },
    {
      "cell_type": "code",
      "source": [
        "print(pessoa.keys())\n",
        "print(pessoa.values())\n",
        "print(pessoa.items())"
      ],
      "metadata": {
        "colab": {
          "base_uri": "https://localhost:8080/"
        },
        "id": "IU6vU-prE0Y5",
        "outputId": "ea6da327-ba6a-4ff1-9787-1900bfa79834"
      },
      "execution_count": null,
      "outputs": [
        {
          "output_type": "stream",
          "name": "stdout",
          "text": [
            "dict_keys(['nome', 'idade', 'cidade'])\n",
            "dict_values(['José', 25, 'Madri'])\n",
            "dict_items([('nome', 'José'), ('idade', 25), ('cidade', 'Madri')])\n"
          ]
        }
      ]
    },
    {
      "cell_type": "code",
      "source": [
        "pessoa.update({\"profissão\":\"Engenheiro\"})\n",
        "print(pessoa)"
      ],
      "metadata": {
        "colab": {
          "base_uri": "https://localhost:8080/"
        },
        "id": "VMwMj4xIOIW9",
        "outputId": "553e42ba-9d2c-4acb-d1b6-11d0d58c29f6"
      },
      "execution_count": null,
      "outputs": [
        {
          "output_type": "stream",
          "name": "stdout",
          "text": [
            "{'nome': 'José', 'idade': 25, 'cidade': 'Madri', 'profissão': 'Engenheiro'}\n"
          ]
        }
      ]
    },
    {
      "cell_type": "markdown",
      "source": [
        "## Conjuntos\n",
        "\n"
      ],
      "metadata": {
        "id": "3smug4WQOx_D"
      }
    },
    {
      "cell_type": "code",
      "source": [
        "frutas={\"maça\",\"banana\",\"laranja\"}\n",
        "numeros=set([1,2,3,4,5])"
      ],
      "metadata": {
        "id": "FVRx-BMaO41b"
      },
      "execution_count": null,
      "outputs": []
    },
    {
      "cell_type": "code",
      "source": [
        "A={1,2,3}\n",
        "B={3,4,5}"
      ],
      "metadata": {
        "id": "cUbPkvXTTwiZ"
      },
      "execution_count": null,
      "outputs": []
    },
    {
      "cell_type": "code",
      "source": [
        "uniao=A|B\n",
        "print(uniao)"
      ],
      "metadata": {
        "colab": {
          "base_uri": "https://localhost:8080/"
        },
        "id": "AjSInLMtT4a8",
        "outputId": "507e592d-b3ba-488c-cc57-14dd78ea5c11"
      },
      "execution_count": null,
      "outputs": [
        {
          "output_type": "stream",
          "name": "stdout",
          "text": [
            "{1, 2, 3, 4, 5}\n"
          ]
        }
      ]
    },
    {
      "cell_type": "code",
      "source": [
        "intersecao=A&B\n",
        "print(intersecao)"
      ],
      "metadata": {
        "colab": {
          "base_uri": "https://localhost:8080/"
        },
        "id": "XqW_moguX2Y_",
        "outputId": "0e507d59-9cb1-4625-e255-b0a480ce1d7a"
      },
      "execution_count": null,
      "outputs": [
        {
          "output_type": "stream",
          "name": "stdout",
          "text": [
            "{3}\n"
          ]
        }
      ]
    },
    {
      "cell_type": "code",
      "source": [
        "diferenca=A-B\n",
        "print(diferenca)"
      ],
      "metadata": {
        "colab": {
          "base_uri": "https://localhost:8080/"
        },
        "id": "ctil3zPtX_hc",
        "outputId": "f780a989-4d36-417b-ac23-ae746104b785"
      },
      "execution_count": null,
      "outputs": [
        {
          "output_type": "stream",
          "name": "stdout",
          "text": [
            "{1, 2}\n"
          ]
        }
      ]
    },
    {
      "cell_type": "code",
      "source": [
        "diferenca_simetrica=A^B\n",
        "print(diferenca_simetrica)"
      ],
      "metadata": {
        "colab": {
          "base_uri": "https://localhost:8080/"
        },
        "id": "5a79dsYaYmUZ",
        "outputId": "29315d1d-7b36-4e85-d55c-36ad644b7bb7"
      },
      "execution_count": null,
      "outputs": [
        {
          "output_type": "stream",
          "name": "stdout",
          "text": [
            "{1, 2, 4, 5}\n"
          ]
        }
      ]
    },
    {
      "cell_type": "markdown",
      "source": [
        "## Métodos\n"
      ],
      "metadata": {
        "id": "on49RJakZjMv"
      }
    },
    {
      "cell_type": "code",
      "source": [
        "frutas.add(\"pera\")\n",
        "print(frutas)"
      ],
      "metadata": {
        "colab": {
          "base_uri": "https://localhost:8080/"
        },
        "id": "F0ht27zkZrwZ",
        "outputId": "dd8f2023-208e-49cb-df26-6c921784c25f"
      },
      "execution_count": null,
      "outputs": [
        {
          "output_type": "stream",
          "name": "stdout",
          "text": [
            "{'maça', 'laranja', 'banana', 'pera'}\n"
          ]
        }
      ]
    },
    {
      "cell_type": "code",
      "source": [
        "frutas.remove(\"banana\")\n",
        "print(frutas)"
      ],
      "metadata": {
        "colab": {
          "base_uri": "https://localhost:8080/"
        },
        "id": "jGtOExhCZ4Nn",
        "outputId": "456d98ac-ecca-488e-aaa4-aad9a9f77266"
      },
      "execution_count": null,
      "outputs": [
        {
          "output_type": "stream",
          "name": "stdout",
          "text": [
            "{'maça', 'laranja', 'pera'}\n"
          ]
        }
      ]
    },
    {
      "cell_type": "code",
      "source": [
        "frutas.discard(\"uva\")\n",
        "print(frutas)"
      ],
      "metadata": {
        "colab": {
          "base_uri": "https://localhost:8080/"
        },
        "id": "ChtLdsHEaApR",
        "outputId": "fae584b0-ab3d-4092-eca2-cf3803f9f1bb"
      },
      "execution_count": null,
      "outputs": [
        {
          "output_type": "stream",
          "name": "stdout",
          "text": [
            "{'maça', 'laranja', 'pera'}\n"
          ]
        }
      ]
    },
    {
      "cell_type": "code",
      "source": [
        "frutas.clear()\n",
        "print(frutas)"
      ],
      "metadata": {
        "colab": {
          "base_uri": "https://localhost:8080/"
        },
        "id": "zV71rwhmaqWt",
        "outputId": "f4734f14-e9be-4f37-ef71-ba52ace05bdd"
      },
      "execution_count": null,
      "outputs": [
        {
          "output_type": "stream",
          "name": "stdout",
          "text": [
            "set()\n"
          ]
        }
      ]
    },
    {
      "cell_type": "markdown",
      "source": [
        "## Funções\n",
        "#Definição e chamada de funções\n"
      ],
      "metadata": {
        "id": "Y41PpNFSz1ZU"
      }
    },
    {
      "cell_type": "code",
      "source": [
        "def saudacao():\n",
        "  print(\"Olá mundo!!!\")\n",
        "\n",
        "saudacao()\n"
      ],
      "metadata": {
        "colab": {
          "base_uri": "https://localhost:8080/"
        },
        "id": "FIiNQ6w40Czc",
        "outputId": "0e199ca6-32fe-48ee-d66f-80b3ddcfb215"
      },
      "execution_count": null,
      "outputs": [
        {
          "output_type": "stream",
          "name": "stdout",
          "text": [
            "Olá mundo!!!\n"
          ]
        }
      ]
    },
    {
      "cell_type": "markdown",
      "source": [
        "##Parâmetros e argumentos\n",
        "\n"
      ],
      "metadata": {
        "id": "NxIGMAL-cwgu"
      }
    },
    {
      "cell_type": "code",
      "source": [
        "def saudacao(nome):\n",
        "  print(f\"Olá, {nome}!!!\")\n",
        "\n",
        "saudacao(\"João\")\n",
        "saudacao(\"Maria\")"
      ],
      "metadata": {
        "colab": {
          "base_uri": "https://localhost:8080/"
        },
        "id": "MTty-qICc25B",
        "outputId": "c7193a39-d185-48bf-af52-97f703c214a4"
      },
      "execution_count": null,
      "outputs": [
        {
          "output_type": "stream",
          "name": "stdout",
          "text": [
            "Olá, João!!!\n",
            "Olá, Maria!!!\n"
          ]
        }
      ]
    },
    {
      "cell_type": "markdown",
      "source": [
        "##Valores de retorno"
      ],
      "metadata": {
        "id": "fXL5N9tseGZf"
      }
    },
    {
      "cell_type": "code",
      "source": [
        "def soma(a,b):\n",
        "  return a+b"
      ],
      "metadata": {
        "id": "_L3qUB_OeO1z"
      },
      "execution_count": null,
      "outputs": []
    },
    {
      "cell_type": "code",
      "source": [
        "print(soma(2.5,4.3))"
      ],
      "metadata": {
        "colab": {
          "base_uri": "https://localhost:8080/"
        },
        "id": "jWtVhYDF8XN6",
        "outputId": "af1ad7b1-1459-4ba3-829d-8b83def06215"
      },
      "execution_count": null,
      "outputs": [
        {
          "output_type": "stream",
          "name": "stdout",
          "text": [
            "6.8\n"
          ]
        }
      ]
    },
    {
      "cell_type": "markdown",
      "source": [
        "## Funções anônimas\n",
        "\n"
      ],
      "metadata": {
        "id": "ImNSIEJ98qH1"
      }
    },
    {
      "cell_type": "code",
      "source": [
        "quadrados=lambda x:x**2"
      ],
      "metadata": {
        "id": "PUsY7QVn8yuL"
      },
      "execution_count": null,
      "outputs": []
    },
    {
      "cell_type": "code",
      "source": [
        "print(quadrados(5))"
      ],
      "metadata": {
        "colab": {
          "base_uri": "https://localhost:8080/"
        },
        "id": "lNmSUZtV87-2",
        "outputId": "b570fe9a-8f22-4e5c-893f-50dfa643c441"
      },
      "execution_count": null,
      "outputs": [
        {
          "output_type": "stream",
          "name": "stdout",
          "text": [
            "25\n"
          ]
        }
      ]
    },
    {
      "cell_type": "markdown",
      "source": [
        "## Erros comuns"
      ],
      "metadata": {
        "id": "Pm_f5YFnO1J1"
      }
    },
    {
      "cell_type": "markdown",
      "source": [
        "Erro de sintaxe (sintaxError)"
      ],
      "metadata": {
        "id": "0d2cWjrAO63p"
      }
    },
    {
      "cell_type": "code",
      "source": [
        "def minha_funcao() #ocorre quando faltam os dois pontos\n",
        "  print(\"Olá\")"
      ],
      "metadata": {
        "colab": {
          "base_uri": "https://localhost:8080/",
          "height": 108
        },
        "id": "WL_SPD11PBLE",
        "outputId": "82249068-2393-4a9f-eecf-3ab8ef943d03"
      },
      "execution_count": null,
      "outputs": [
        {
          "output_type": "error",
          "ename": "SyntaxError",
          "evalue": "expected ':' (<ipython-input-84-a2c83fcaf255>, line 1)",
          "traceback": [
            "\u001b[0;36m  File \u001b[0;32m\"<ipython-input-84-a2c83fcaf255>\"\u001b[0;36m, line \u001b[0;32m1\u001b[0m\n\u001b[0;31m    def minha_funcao() #Quando faltam os dois pontos\u001b[0m\n\u001b[0m                       ^\u001b[0m\n\u001b[0;31mSyntaxError\u001b[0m\u001b[0;31m:\u001b[0m expected ':'\n"
          ]
        }
      ]
    },
    {
      "cell_type": "markdown",
      "source": [
        " Erro de nome (nameError)"
      ],
      "metadata": {
        "id": "RJ0EXPeHQMey"
      }
    },
    {
      "cell_type": "code",
      "source": [
        "print(variavel_nao_definida) #Ocorre quando se faz referência a uma variável ou função que não foi definida"
      ],
      "metadata": {
        "colab": {
          "base_uri": "https://localhost:8080/",
          "height": 144
        },
        "id": "ayBlQQr0RPOQ",
        "outputId": "5b1b4dfb-8397-4b6f-caf0-d2b8c8b6bbdb"
      },
      "execution_count": null,
      "outputs": [
        {
          "output_type": "error",
          "ename": "NameError",
          "evalue": "name 'variavel_nao_definida' is not defined",
          "traceback": [
            "\u001b[0;31m---------------------------------------------------------------------------\u001b[0m",
            "\u001b[0;31mNameError\u001b[0m                                 Traceback (most recent call last)",
            "\u001b[0;32m<ipython-input-82-bd580d00fe83>\u001b[0m in \u001b[0;36m<cell line: 1>\u001b[0;34m()\u001b[0m\n\u001b[0;32m----> 1\u001b[0;31m \u001b[0mprint\u001b[0m\u001b[0;34m(\u001b[0m\u001b[0mvariavel_nao_definida\u001b[0m\u001b[0;34m)\u001b[0m\u001b[0;34m\u001b[0m\u001b[0;34m\u001b[0m\u001b[0m\n\u001b[0m",
            "\u001b[0;31mNameError\u001b[0m: name 'variavel_nao_definida' is not defined"
          ]
        }
      ]
    },
    {
      "cell_type": "markdown",
      "source": [
        "Erro de tipo (typeError)"
      ],
      "metadata": {
        "id": "j2GDJKPKR33y"
      }
    },
    {
      "cell_type": "code",
      "source": [
        "resultado=5+\"10\"  #Ocorre quando se realiza uma operação com tipos de dados incompatíveis, como tentar somar um número a uma string\n",
        "print(resultado)"
      ],
      "metadata": {
        "colab": {
          "base_uri": "https://localhost:8080/",
          "height": 162
        },
        "id": "_mpbQt7gSPsk",
        "outputId": "5f936735-cc83-46d0-904f-3361d2b94e8d"
      },
      "execution_count": null,
      "outputs": [
        {
          "output_type": "error",
          "ename": "TypeError",
          "evalue": "unsupported operand type(s) for +: 'int' and 'str'",
          "traceback": [
            "\u001b[0;31m---------------------------------------------------------------------------\u001b[0m",
            "\u001b[0;31mTypeError\u001b[0m                                 Traceback (most recent call last)",
            "\u001b[0;32m<ipython-input-83-b37eb2413044>\u001b[0m in \u001b[0;36m<cell line: 1>\u001b[0;34m()\u001b[0m\n\u001b[0;32m----> 1\u001b[0;31m \u001b[0mresultado\u001b[0m\u001b[0;34m=\u001b[0m\u001b[0;36m5\u001b[0m\u001b[0;34m+\u001b[0m\u001b[0;34m\"10\"\u001b[0m\u001b[0;34m\u001b[0m\u001b[0;34m\u001b[0m\u001b[0m\n\u001b[0m\u001b[1;32m      2\u001b[0m \u001b[0mprint\u001b[0m\u001b[0;34m(\u001b[0m\u001b[0mresultado\u001b[0m\u001b[0;34m)\u001b[0m\u001b[0;34m\u001b[0m\u001b[0;34m\u001b[0m\u001b[0m\n",
            "\u001b[0;31mTypeError\u001b[0m: unsupported operand type(s) for +: 'int' and 'str'"
          ]
        }
      ]
    },
    {
      "cell_type": "markdown",
      "source": [
        "Erro de índice (indexError)"
      ],
      "metadata": {
        "id": "1bY6ZZzwT0gj"
      }
    },
    {
      "cell_type": "code",
      "source": [
        "lista=[1,2,3,4]\n",
        "print(lista[4])  #o índice está fora do intervalo"
      ],
      "metadata": {
        "colab": {
          "base_uri": "https://localhost:8080/",
          "height": 162
        },
        "id": "iqVzWkZnUH0W",
        "outputId": "4c937a61-9ff5-4f38-b100-c79127955acf"
      },
      "execution_count": null,
      "outputs": [
        {
          "output_type": "error",
          "ename": "IndexError",
          "evalue": "list index out of range",
          "traceback": [
            "\u001b[0;31m---------------------------------------------------------------------------\u001b[0m",
            "\u001b[0;31mIndexError\u001b[0m                                Traceback (most recent call last)",
            "\u001b[0;32m<ipython-input-87-826110b94b65>\u001b[0m in \u001b[0;36m<cell line: 2>\u001b[0;34m()\u001b[0m\n\u001b[1;32m      1\u001b[0m \u001b[0mlista\u001b[0m\u001b[0;34m=\u001b[0m\u001b[0;34m[\u001b[0m\u001b[0;36m1\u001b[0m\u001b[0;34m,\u001b[0m\u001b[0;36m2\u001b[0m\u001b[0;34m,\u001b[0m\u001b[0;36m3\u001b[0m\u001b[0;34m,\u001b[0m\u001b[0;36m4\u001b[0m\u001b[0;34m]\u001b[0m\u001b[0;34m\u001b[0m\u001b[0;34m\u001b[0m\u001b[0m\n\u001b[0;32m----> 2\u001b[0;31m \u001b[0mprint\u001b[0m\u001b[0;34m(\u001b[0m\u001b[0mlista\u001b[0m\u001b[0;34m[\u001b[0m\u001b[0;36m4\u001b[0m\u001b[0;34m]\u001b[0m\u001b[0;34m)\u001b[0m  \u001b[0;31m#o índice está fora do intervalo\u001b[0m\u001b[0;34m\u001b[0m\u001b[0;34m\u001b[0m\u001b[0m\n\u001b[0m",
            "\u001b[0;31mIndexError\u001b[0m: list index out of range"
          ]
        }
      ]
    },
    {
      "cell_type": "markdown",
      "source": [
        "## Manejo de excessões\n"
      ],
      "metadata": {
        "id": "M5syS7CMU0As"
      }
    },
    {
      "cell_type": "code",
      "source": [],
      "metadata": {
        "id": "_TrOJHYZU4XA"
      },
      "execution_count": null,
      "outputs": []
    }
  ]
}