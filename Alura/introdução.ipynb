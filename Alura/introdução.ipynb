{
  "nbformat": 4,
  "nbformat_minor": 0,
  "metadata": {
    "colab": {
      "provenance": [],
      "authorship_tag": "ABX9TyNu81r6rbY/kXyeXZdACK0B",
      "include_colab_link": true
    },
    "kernelspec": {
      "name": "python3",
      "display_name": "Python 3"
    },
    "language_info": {
      "name": "python"
    }
  },
  "cells": [
    {
      "cell_type": "markdown",
      "metadata": {
        "id": "view-in-github",
        "colab_type": "text"
      },
      "source": [
        "<a href=\"https://colab.research.google.com/github/Was01/Python/blob/main/Alura/introdu%C3%A7%C3%A3o.ipynb\" target=\"_parent\"><img src=\"https://colab.research.google.com/assets/colab-badge.svg\" alt=\"Open In Colab\"/></a>"
      ]
    },
    {
      "cell_type": "markdown",
      "source": [
        "## Aula01"
      ],
      "metadata": {
        "id": "9x14ib_NSXHm"
      }
    },
    {
      "cell_type": "code",
      "execution_count": null,
      "metadata": {
        "colab": {
          "base_uri": "https://localhost:8080/"
        },
        "id": "_yIHlRstKkOs",
        "outputId": "e2a4774b-7d3b-44e0-8644-06079c8401ee"
      },
      "outputs": [
        {
          "output_type": "stream",
          "name": "stdout",
          "text": [
            " I competição de programação da Start\n"
          ]
        }
      ],
      "source": [
        "print(\" I competição de programação da Start\")"
      ]
    },
    {
      "cell_type": "code",
      "source": [
        "ano=\"II\"\n",
        "\n",
        "print(ano,\"Competição de programação da Start\")"
      ],
      "metadata": {
        "colab": {
          "base_uri": "https://localhost:8080/"
        },
        "id": "wUbS8ATYMIiD",
        "outputId": "499df676-378f-41fb-9d45-faedb1ab100f"
      },
      "execution_count": null,
      "outputs": [
        {
          "output_type": "stream",
          "name": "stdout",
          "text": [
            "II Competição de programação da Start\n"
          ]
        }
      ]
    },
    {
      "cell_type": "code",
      "source": [
        "print(f'{ano} Competição de programação da Start')"
      ],
      "metadata": {
        "colab": {
          "base_uri": "https://localhost:8080/"
        },
        "id": "8rPm_74kMyBz",
        "outputId": "a4148db5-e6d7-4035-8d9b-6d5df28ffd21"
      },
      "execution_count": null,
      "outputs": [
        {
          "output_type": "stream",
          "name": "stdout",
          "text": [
            "II Competição de programação da Start\n"
          ]
        }
      ]
    },
    {
      "cell_type": "code",
      "source": [
        "ano='II'\n",
        "local='Anhembi/São Paulo'\n",
        "tema='Robótica'\n",
        "print(f'{ano} Competição de Programação da Start.Local: {local}, tema:{tema}.')"
      ],
      "metadata": {
        "colab": {
          "base_uri": "https://localhost:8080/"
        },
        "id": "eUcH2HbH9gal",
        "outputId": "dc41ba08-fa24-4e31-999e-cbcadeeb424d"
      },
      "execution_count": null,
      "outputs": [
        {
          "output_type": "stream",
          "name": "stdout",
          "text": [
            "II Competição de Programação da Start.Local: Anhembi/São Paulo, tema:Robótica.\n"
          ]
        }
      ]
    },
    {
      "cell_type": "markdown",
      "source": [
        "## Aula02"
      ],
      "metadata": {
        "id": "7KxioftlSlZH"
      }
    },
    {
      "cell_type": "code",
      "source": [
        "ficcao=10\n",
        "nao_ficcao=8\n",
        "infantil=6\n",
        "pontos_rodrigo=ficcao+nao_ficcao+infantil\n",
        "pontos_ana=2*ficcao+5*infantil\n",
        "pontos_acumulados=pontos_rodrigo+pontos_ana\n",
        "print(f'Os pontos totais do Rodrigo são: {pontos_rodrigo}')\n",
        "print(f'Os pontos totais da Ana são: {pontos_ana}')\n",
        "print(f'OS pontos acumulados por Rodrigo e Ana foram: {pontos_acumulados}')"
      ],
      "metadata": {
        "colab": {
          "base_uri": "https://localhost:8080/"
        },
        "id": "ui4vyJArTJBR",
        "outputId": "a4f2ea3e-a5ae-4eae-9348-f1396b3bf330"
      },
      "execution_count": null,
      "outputs": [
        {
          "output_type": "stream",
          "name": "stdout",
          "text": [
            "Os pontos totais do Rodrigo são: 24\n",
            "Os pontos totais da Ana são: 50\n",
            "OS pontos acumulados por Rodrigo e Ana foram: 74\n"
          ]
        }
      ]
    },
    {
      "cell_type": "markdown",
      "source": [
        "## Aula 03"
      ],
      "metadata": {
        "id": "hFG9sY4k--Gm"
      }
    },
    {
      "cell_type": "code",
      "source": [
        "total_figurinhas=int(input('Digite o total de figurinhas: '))\n",
        "numero_amigos=int(input('Digite o número de amigos: '))\n",
        "figurinhas_amigos=total_figurinhas//(numero_amigos+2)\n",
        "figurinhas_joao=2*figurinhas_amigos\n",
        "\n",
        "\n",
        "figurinhas_extras=int(input('Total de figurinhas extras: '))\n",
        "figurinhas_extras_amigos=figurinhas_extras//(numero_amigos+2)\n",
        "figurinhas_extras_joao=2*figurinhas_extras_amigos\n",
        "\n",
        "\n",
        "print( f'João recebeu {figurinhas_joao} figurinhas. Além disso ele recebeu mais {figurinhas_extras_joao} figurinha extras. Totalizando {figurinhas_joao+figurinhas_extras_joao} figurinhas.')"
      ],
      "metadata": {
        "colab": {
          "base_uri": "https://localhost:8080/"
        },
        "id": "Egz-l47L_Ddh",
        "outputId": "437523e7-89e2-4f2a-f321-5672c6d9d905"
      },
      "execution_count": null,
      "outputs": [
        {
          "output_type": "stream",
          "name": "stdout",
          "text": [
            "Digite o total de figurinhas: 100\n",
            "Digite o número de amigos: 5\n",
            "Total de figurinhas extras: 100\n",
            "João recebeu 28 figurinhas. Além disso ele recebeu mais 28 figurinha extras. Totalizando 56 figurinhas.\n"
          ]
        }
      ]
    },
    {
      "cell_type": "code",
      "source": [
        "figurinhas_extras=int(input('Total de figurinhas extras: '))\n"
      ],
      "metadata": {
        "id": "O2SB-muvDPkd"
      },
      "execution_count": null,
      "outputs": []
    },
    {
      "cell_type": "markdown",
      "source": [
        "## Aula 04"
      ],
      "metadata": {
        "id": "n9kCeb1EQCjU"
      }
    },
    {
      "cell_type": "code",
      "source": [
        "numero_alunos=int(input('Digite a quantidade de alunos: '))\n",
        "numero_monitores=int(input('Digite o número de monitores: '))\n",
        "resposta_positiva='Pode ir'\n",
        "resposta_negativa='Não pode ir'\n",
        "numero_professores=8\n",
        "if numero_alunos+numero_monitores+numero_professores <=30:\n",
        "  print(resposta_positiva)\n",
        "else:\n",
        "  print(resposta_negativa)\n"
      ],
      "metadata": {
        "colab": {
          "base_uri": "https://localhost:8080/"
        },
        "id": "E7Qtm5GmQGpd",
        "outputId": "d2de178a-f12b-4841-c689-a1e87fc88fc1"
      },
      "execution_count": null,
      "outputs": [
        {
          "output_type": "stream",
          "name": "stdout",
          "text": [
            "Digite a quantidade de alunos: 8\n",
            "Digite o número de monitores: 5\n",
            "Pode ir\n"
          ]
        }
      ]
    },
    {
      "cell_type": "markdown",
      "source": [
        "## Aula 05"
      ],
      "metadata": {
        "id": "VQvtx7xicW5q"
      }
    },
    {
      "cell_type": "code",
      "source": [
        "p=int(input('Digite a posição da porta P (0 ou 1): '))\n",
        "if p==0:\n",
        "  print('Bolinha irá para o caminho C')\n",
        "else:\n",
        "  r=int(input('Digite a posição da porta R (0 ou 1): '))\n",
        "  if r==0:\n",
        "    print('Bolinha irá para o caminho B')\n",
        "  else:\n",
        "    q=int(input('Digite a posição da porta Q (0 ou 1): '))\n",
        "    if q==0:\n",
        "      print('Bolinha irá para o caminho A')\n",
        "    else:\n",
        "      print( 'Bolinha irá para o caminho D')\n",
        "\n",
        "\n",
        "\n"
      ],
      "metadata": {
        "colab": {
          "base_uri": "https://localhost:8080/"
        },
        "id": "RdRaTHEpcZ9W",
        "outputId": "ff3045d4-55ac-40ae-8a44-50ba2a65d458"
      },
      "execution_count": 12,
      "outputs": [
        {
          "output_type": "stream",
          "name": "stdout",
          "text": [
            "Digite a posição da porta P (0 ou 1): 1\n",
            "Digite a posição da porta R (0 ou 1): 1\n",
            "Digite a posição da porta Q (0 ou 1): 1\n",
            "Bolinha irá para o caminho D\n"
          ]
        }
      ]
    }
  ]
}